{
 "cells": [
  {
   "cell_type": "code",
   "execution_count": 2,
   "metadata": {},
   "outputs": [],
   "source": [
    "from statsmodels.stats.power import FTestAnovaPower\n",
    "import pandas as pd\n",
    "import pandas as pd\n",
    "from pyDOE3 import ff2n\n",
    "import statsmodels.api as sm\n",
    "from statsmodels.formula.api import ols\n",
    "import plotly.express as px\n",
    "import plotly.graph_objects as go\n",
    "from plotly.subplots import make_subplots\n",
    "from itertools import combinations"
   ]
  },
  {
   "cell_type": "markdown",
   "metadata": {},
   "source": [
    "For our first experiment, we wan to do a 2^k factorial design to determine which factors are singificant. We can do this by testing the extremes for each factor (ie the absolute max/min values they can take on). This will give us the best idea of their variability across the entire parameter space."
   ]
  },
  {
   "cell_type": "code",
   "execution_count": 3,
   "metadata": {},
   "outputs": [
    {
     "name": "stdout",
     "output_type": "stream",
     "text": [
      "    Prev.Length  Match.Score  Tile.Size Prev.Type\n",
      "0            30            0        0.1        TT\n",
      "1            30            0        0.1        AC\n",
      "2            30            0        0.5        TT\n",
      "3            30            0        0.5        AC\n",
      "4            30          100        0.1        TT\n",
      "5            30          100        0.1        AC\n",
      "6            30          100        0.5        TT\n",
      "7            30          100        0.5        AC\n",
      "8           120            0        0.1        TT\n",
      "9           120            0        0.1        AC\n",
      "10          120            0        0.5        TT\n",
      "11          120            0        0.5        AC\n",
      "12          120          100        0.1        TT\n",
      "13          120          100        0.1        AC\n",
      "14          120          100        0.5        TT\n",
      "15          120          100        0.5        AC\n"
     ]
    }
   ],
   "source": [
    "full_design = ff2n(4)\n",
    "\n",
    "columns = ['Prev.Length', 'Match.Score', 'Tile.Size', 'Prev.Type']\n",
    "\n",
    "# Convert to DataFrame\n",
    "design_df = pd.DataFrame(full_design, columns=columns)\n",
    "\n",
    "# Map coded levels (-1, 1) to meaningful values\n",
    "design_df['Tile.Size'] = design_df['Tile.Size'].map({-1: 0.1, 1: 0.5})\n",
    "design_df['Match.Score'] = design_df['Match.Score'].map({-1: 0, 1: 100})\n",
    "design_df['Prev.Length'] = design_df['Prev.Length'].map({-1: 30, 1: 120})\n",
    "design_df['Prev.Type'] = design_df['Prev.Type'].map({-1: 'TT', 1: 'AC'})\n",
    "\n",
    "# Save the design matrix for uploading to the simulator\n",
    "design_df.to_csv('experiment_1_design.csv', index=False)\n",
    "\n",
    "# Display the design matrix\n",
    "print(design_df)"
   ]
  },
  {
   "cell_type": "markdown",
   "metadata": {},
   "source": [
    "Since this is a 2^k factorial design, as long as we fit our model in the encoded unit space, we can just use the t-tests output in the model summary to determine which factors are significant. This comes as a result of the orthogonal nature of the encoded unit space for this type of experimental design. As such, we can estimate the required sample size as follows."
   ]
  },
  {
   "cell_type": "code",
   "execution_count": 4,
   "metadata": {},
   "outputs": [
    {
     "name": "stdout",
     "output_type": "stream",
     "text": [
      "Required sample size per condition: 100\n",
      "Total required sample size: 1600\n"
     ]
    }
   ],
   "source": [
    "from statsmodels.stats.power import TTestIndPower\n",
    "\n",
    "# Define power analysis parameters\n",
    "effect_size = 0.4  # Medium effect size\n",
    "alpha = 0.05       # Significance level\n",
    "power = 0.8        # Desired power\n",
    "num_conditions = 16  # 2^4 full factorial\n",
    "\n",
    "# Compute required sample size per condition\n",
    "power_analysis = TTestIndPower()\n",
    "sample_size_per_condition = int(power_analysis.solve_power(effect_size, power=power, alpha=alpha)) + 1  # Round up\n",
    "\n",
    "# Compute total sample size\n",
    "total_sample_size = sample_size_per_condition * num_conditions\n",
    "\n",
    "print(f\"Required sample size per condition: {sample_size_per_condition}\")\n",
    "print(f\"Total required sample size: {total_sample_size}\")"
   ]
  },
  {
   "cell_type": "markdown",
   "metadata": {},
   "source": [
    "Based on this, for an effect size of 0.4, we need 100 units per condition or a total of 1600 units for this test. To air on the side of caution, we can do 250 units per condition for a total of 4000 units in this experiment. "
   ]
  },
  {
   "cell_type": "code",
   "execution_count": 5,
   "metadata": {},
   "outputs": [
    {
     "data": {
      "text/html": [
       "<div>\n",
       "<style scoped>\n",
       "    .dataframe tbody tr th:only-of-type {\n",
       "        vertical-align: middle;\n",
       "    }\n",
       "\n",
       "    .dataframe tbody tr th {\n",
       "        vertical-align: top;\n",
       "    }\n",
       "\n",
       "    .dataframe thead th {\n",
       "        text-align: right;\n",
       "    }\n",
       "</style>\n",
       "<table border=\"1\" class=\"dataframe\">\n",
       "  <thead>\n",
       "    <tr style=\"text-align: right;\">\n",
       "      <th></th>\n",
       "      <th>Prev.Length</th>\n",
       "      <th>Match.Score</th>\n",
       "      <th>Tile.Size</th>\n",
       "      <th>Prev.Type</th>\n",
       "      <th>Browse.Time</th>\n",
       "    </tr>\n",
       "  </thead>\n",
       "  <tbody>\n",
       "    <tr>\n",
       "      <th>0</th>\n",
       "      <td>30</td>\n",
       "      <td>0</td>\n",
       "      <td>0.1</td>\n",
       "      <td>TT</td>\n",
       "      <td>19.611889</td>\n",
       "    </tr>\n",
       "    <tr>\n",
       "      <th>1</th>\n",
       "      <td>30</td>\n",
       "      <td>0</td>\n",
       "      <td>0.1</td>\n",
       "      <td>TT</td>\n",
       "      <td>19.047636</td>\n",
       "    </tr>\n",
       "    <tr>\n",
       "      <th>2</th>\n",
       "      <td>30</td>\n",
       "      <td>0</td>\n",
       "      <td>0.1</td>\n",
       "      <td>TT</td>\n",
       "      <td>19.926273</td>\n",
       "    </tr>\n",
       "    <tr>\n",
       "      <th>3</th>\n",
       "      <td>30</td>\n",
       "      <td>0</td>\n",
       "      <td>0.1</td>\n",
       "      <td>TT</td>\n",
       "      <td>20.674456</td>\n",
       "    </tr>\n",
       "    <tr>\n",
       "      <th>4</th>\n",
       "      <td>30</td>\n",
       "      <td>0</td>\n",
       "      <td>0.1</td>\n",
       "      <td>TT</td>\n",
       "      <td>20.483957</td>\n",
       "    </tr>\n",
       "  </tbody>\n",
       "</table>\n",
       "</div>"
      ],
      "text/plain": [
       "   Prev.Length  Match.Score  Tile.Size Prev.Type  Browse.Time\n",
       "0           30            0        0.1        TT    19.611889\n",
       "1           30            0        0.1        TT    19.047636\n",
       "2           30            0        0.1        TT    19.926273\n",
       "3           30            0        0.1        TT    20.674456\n",
       "4           30            0        0.1        TT    20.483957"
      ]
     },
     "execution_count": 5,
     "metadata": {},
     "output_type": "execute_result"
    }
   ],
   "source": [
    "results_df = pd.read_csv('experiment_1_results.csv')\n",
    "\n",
    "results_df.head()"
   ]
  },
  {
   "cell_type": "markdown",
   "metadata": {},
   "source": [
    "We can then map these results back into the encoded unit space to fit our model. The model that we fit is the full model with all interaction terms included. "
   ]
  },
  {
   "cell_type": "code",
   "execution_count": 6,
   "metadata": {},
   "outputs": [
    {
     "data": {
      "text/html": [
       "<table class=\"simpletable\">\n",
       "<caption>OLS Regression Results</caption>\n",
       "<tr>\n",
       "  <th>Dep. Variable:</th>       <td>browse_time</td>   <th>  R-squared:         </th> <td>   0.892</td> \n",
       "</tr>\n",
       "<tr>\n",
       "  <th>Model:</th>                   <td>OLS</td>       <th>  Adj. R-squared:    </th> <td>   0.891</td> \n",
       "</tr>\n",
       "<tr>\n",
       "  <th>Method:</th>             <td>Least Squares</td>  <th>  F-statistic:       </th> <td>   2185.</td> \n",
       "</tr>\n",
       "<tr>\n",
       "  <th>Date:</th>             <td>Sun, 19 Jan 2025</td> <th>  Prob (F-statistic):</th>  <td>  0.00</td>  \n",
       "</tr>\n",
       "<tr>\n",
       "  <th>Time:</th>                 <td>16:44:13</td>     <th>  Log-Likelihood:    </th> <td> -5628.6</td> \n",
       "</tr>\n",
       "<tr>\n",
       "  <th>No. Observations:</th>      <td>  4000</td>      <th>  AIC:               </th> <td>1.129e+04</td>\n",
       "</tr>\n",
       "<tr>\n",
       "  <th>Df Residuals:</th>          <td>  3984</td>      <th>  BIC:               </th> <td>1.139e+04</td>\n",
       "</tr>\n",
       "<tr>\n",
       "  <th>Df Model:</th>              <td>    15</td>      <th>                     </th>     <td> </td>    \n",
       "</tr>\n",
       "<tr>\n",
       "  <th>Covariance Type:</th>      <td>nonrobust</td>    <th>                     </th>     <td> </td>    \n",
       "</tr>\n",
       "</table>\n",
       "<table class=\"simpletable\">\n",
       "<tr>\n",
       "                                       <td></td>                                          <th>coef</th>     <th>std err</th>      <th>t</th>      <th>P>|t|</th>  <th>[0.025</th>    <th>0.975]</th>  \n",
       "</tr>\n",
       "<tr>\n",
       "  <th>Intercept</th>                                                                   <td>   20.0348</td> <td>    0.063</td> <td>  319.897</td> <td> 0.000</td> <td>   19.912</td> <td>   20.158</td>\n",
       "</tr>\n",
       "<tr>\n",
       "  <th>C(tile_size)[T.1]</th>                                                           <td>   -0.0773</td> <td>    0.089</td> <td>   -0.872</td> <td> 0.383</td> <td>   -0.251</td> <td>    0.096</td>\n",
       "</tr>\n",
       "<tr>\n",
       "  <th>C(match_score)[T.1]</th>                                                         <td>   -3.1372</td> <td>    0.089</td> <td>  -35.420</td> <td> 0.000</td> <td>   -3.311</td> <td>   -2.964</td>\n",
       "</tr>\n",
       "<tr>\n",
       "  <th>C(prev_length)[T.1]</th>                                                         <td>   -0.1781</td> <td>    0.089</td> <td>   -2.010</td> <td> 0.044</td> <td>   -0.352</td> <td>   -0.004</td>\n",
       "</tr>\n",
       "<tr>\n",
       "  <th>C(prev_type)[T.1]</th>                                                           <td>    4.9717</td> <td>    0.089</td> <td>   56.133</td> <td> 0.000</td> <td>    4.798</td> <td>    5.145</td>\n",
       "</tr>\n",
       "<tr>\n",
       "  <th>C(tile_size)[T.1]:C(match_score)[T.1]</th>                                       <td>   -0.0650</td> <td>    0.125</td> <td>   -0.519</td> <td> 0.604</td> <td>   -0.311</td> <td>    0.181</td>\n",
       "</tr>\n",
       "<tr>\n",
       "  <th>C(tile_size)[T.1]:C(prev_length)[T.1]</th>                                       <td>    0.1999</td> <td>    0.125</td> <td>    1.596</td> <td> 0.111</td> <td>   -0.046</td> <td>    0.445</td>\n",
       "</tr>\n",
       "<tr>\n",
       "  <th>C(match_score)[T.1]:C(prev_length)[T.1]</th>                                     <td>    3.2957</td> <td>    0.125</td> <td>   26.312</td> <td> 0.000</td> <td>    3.050</td> <td>    3.541</td>\n",
       "</tr>\n",
       "<tr>\n",
       "  <th>C(tile_size)[T.1]:C(prev_type)[T.1]</th>                                         <td>    0.0731</td> <td>    0.125</td> <td>    0.583</td> <td> 0.560</td> <td>   -0.172</td> <td>    0.319</td>\n",
       "</tr>\n",
       "<tr>\n",
       "  <th>C(match_score)[T.1]:C(prev_type)[T.1]</th>                                       <td>    0.0135</td> <td>    0.125</td> <td>    0.107</td> <td> 0.914</td> <td>   -0.232</td> <td>    0.259</td>\n",
       "</tr>\n",
       "<tr>\n",
       "  <th>C(prev_length)[T.1]:C(prev_type)[T.1]</th>                                       <td>    0.1328</td> <td>    0.125</td> <td>    1.060</td> <td> 0.289</td> <td>   -0.113</td> <td>    0.378</td>\n",
       "</tr>\n",
       "<tr>\n",
       "  <th>C(tile_size)[T.1]:C(match_score)[T.1]:C(prev_length)[T.1]</th>                   <td>   -0.0337</td> <td>    0.177</td> <td>   -0.190</td> <td> 0.849</td> <td>   -0.381</td> <td>    0.314</td>\n",
       "</tr>\n",
       "<tr>\n",
       "  <th>C(tile_size)[T.1]:C(match_score)[T.1]:C(prev_type)[T.1]</th>                     <td>    0.1405</td> <td>    0.177</td> <td>    0.793</td> <td> 0.428</td> <td>   -0.207</td> <td>    0.488</td>\n",
       "</tr>\n",
       "<tr>\n",
       "  <th>C(tile_size)[T.1]:C(prev_length)[T.1]:C(prev_type)[T.1]</th>                     <td>   -0.2572</td> <td>    0.177</td> <td>   -1.452</td> <td> 0.147</td> <td>   -0.604</td> <td>    0.090</td>\n",
       "</tr>\n",
       "<tr>\n",
       "  <th>C(match_score)[T.1]:C(prev_length)[T.1]:C(prev_type)[T.1]</th>                   <td>   -0.3034</td> <td>    0.177</td> <td>   -1.713</td> <td> 0.087</td> <td>   -0.651</td> <td>    0.044</td>\n",
       "</tr>\n",
       "<tr>\n",
       "  <th>C(tile_size)[T.1]:C(match_score)[T.1]:C(prev_length)[T.1]:C(prev_type)[T.1]</th> <td>    0.1588</td> <td>    0.251</td> <td>    0.634</td> <td> 0.526</td> <td>   -0.332</td> <td>    0.650</td>\n",
       "</tr>\n",
       "</table>\n",
       "<table class=\"simpletable\">\n",
       "<tr>\n",
       "  <th>Omnibus:</th>       <td> 2.964</td> <th>  Durbin-Watson:     </th> <td>   1.985</td>\n",
       "</tr>\n",
       "<tr>\n",
       "  <th>Prob(Omnibus):</th> <td> 0.227</td> <th>  Jarque-Bera (JB):  </th> <td>   2.765</td>\n",
       "</tr>\n",
       "<tr>\n",
       "  <th>Skew:</th>          <td>-0.009</td> <th>  Prob(JB):          </th> <td>   0.251</td>\n",
       "</tr>\n",
       "<tr>\n",
       "  <th>Kurtosis:</th>      <td> 2.873</td> <th>  Cond. No.          </th> <td>    47.0</td>\n",
       "</tr>\n",
       "</table><br/><br/>Notes:<br/>[1] Standard Errors assume that the covariance matrix of the errors is correctly specified."
      ],
      "text/latex": [
       "\\begin{center}\n",
       "\\begin{tabular}{lclc}\n",
       "\\toprule\n",
       "\\textbf{Dep. Variable:}                                                                  &   browse\\_time   & \\textbf{  R-squared:         } &     0.892   \\\\\n",
       "\\textbf{Model:}                                                                          &       OLS        & \\textbf{  Adj. R-squared:    } &     0.891   \\\\\n",
       "\\textbf{Method:}                                                                         &  Least Squares   & \\textbf{  F-statistic:       } &     2185.   \\\\\n",
       "\\textbf{Date:}                                                                           & Sun, 19 Jan 2025 & \\textbf{  Prob (F-statistic):} &     0.00    \\\\\n",
       "\\textbf{Time:}                                                                           &     16:44:13     & \\textbf{  Log-Likelihood:    } &   -5628.6   \\\\\n",
       "\\textbf{No. Observations:}                                                               &        4000      & \\textbf{  AIC:               } & 1.129e+04   \\\\\n",
       "\\textbf{Df Residuals:}                                                                   &        3984      & \\textbf{  BIC:               } & 1.139e+04   \\\\\n",
       "\\textbf{Df Model:}                                                                       &          15      & \\textbf{                     } &             \\\\\n",
       "\\textbf{Covariance Type:}                                                                &    nonrobust     & \\textbf{                     } &             \\\\\n",
       "\\bottomrule\n",
       "\\end{tabular}\n",
       "\\begin{tabular}{lcccccc}\n",
       "                                                                                         & \\textbf{coef} & \\textbf{std err} & \\textbf{t} & \\textbf{P$> |$t$|$} & \\textbf{[0.025} & \\textbf{0.975]}  \\\\\n",
       "\\midrule\n",
       "\\textbf{Intercept}                                                                       &      20.0348  &        0.063     &   319.897  &         0.000        &       19.912    &       20.158     \\\\\n",
       "\\textbf{C(tile\\_size)[T.1]}                                                              &      -0.0773  &        0.089     &    -0.872  &         0.383        &       -0.251    &        0.096     \\\\\n",
       "\\textbf{C(match\\_score)[T.1]}                                                            &      -3.1372  &        0.089     &   -35.420  &         0.000        &       -3.311    &       -2.964     \\\\\n",
       "\\textbf{C(prev\\_length)[T.1]}                                                            &      -0.1781  &        0.089     &    -2.010  &         0.044        &       -0.352    &       -0.004     \\\\\n",
       "\\textbf{C(prev\\_type)[T.1]}                                                              &       4.9717  &        0.089     &    56.133  &         0.000        &        4.798    &        5.145     \\\\\n",
       "\\textbf{C(tile\\_size)[T.1]:C(match\\_score)[T.1]}                                         &      -0.0650  &        0.125     &    -0.519  &         0.604        &       -0.311    &        0.181     \\\\\n",
       "\\textbf{C(tile\\_size)[T.1]:C(prev\\_length)[T.1]}                                         &       0.1999  &        0.125     &     1.596  &         0.111        &       -0.046    &        0.445     \\\\\n",
       "\\textbf{C(match\\_score)[T.1]:C(prev\\_length)[T.1]}                                       &       3.2957  &        0.125     &    26.312  &         0.000        &        3.050    &        3.541     \\\\\n",
       "\\textbf{C(tile\\_size)[T.1]:C(prev\\_type)[T.1]}                                           &       0.0731  &        0.125     &     0.583  &         0.560        &       -0.172    &        0.319     \\\\\n",
       "\\textbf{C(match\\_score)[T.1]:C(prev\\_type)[T.1]}                                         &       0.0135  &        0.125     &     0.107  &         0.914        &       -0.232    &        0.259     \\\\\n",
       "\\textbf{C(prev\\_length)[T.1]:C(prev\\_type)[T.1]}                                         &       0.1328  &        0.125     &     1.060  &         0.289        &       -0.113    &        0.378     \\\\\n",
       "\\textbf{C(tile\\_size)[T.1]:C(match\\_score)[T.1]:C(prev\\_length)[T.1]}                    &      -0.0337  &        0.177     &    -0.190  &         0.849        &       -0.381    &        0.314     \\\\\n",
       "\\textbf{C(tile\\_size)[T.1]:C(match\\_score)[T.1]:C(prev\\_type)[T.1]}                      &       0.1405  &        0.177     &     0.793  &         0.428        &       -0.207    &        0.488     \\\\\n",
       "\\textbf{C(tile\\_size)[T.1]:C(prev\\_length)[T.1]:C(prev\\_type)[T.1]}                      &      -0.2572  &        0.177     &    -1.452  &         0.147        &       -0.604    &        0.090     \\\\\n",
       "\\textbf{C(match\\_score)[T.1]:C(prev\\_length)[T.1]:C(prev\\_type)[T.1]}                    &      -0.3034  &        0.177     &    -1.713  &         0.087        &       -0.651    &        0.044     \\\\\n",
       "\\textbf{C(tile\\_size)[T.1]:C(match\\_score)[T.1]:C(prev\\_length)[T.1]:C(prev\\_type)[T.1]} &       0.1588  &        0.251     &     0.634  &         0.526        &       -0.332    &        0.650     \\\\\n",
       "\\bottomrule\n",
       "\\end{tabular}\n",
       "\\begin{tabular}{lclc}\n",
       "\\textbf{Omnibus:}       &  2.964 & \\textbf{  Durbin-Watson:     } &    1.985  \\\\\n",
       "\\textbf{Prob(Omnibus):} &  0.227 & \\textbf{  Jarque-Bera (JB):  } &    2.765  \\\\\n",
       "\\textbf{Skew:}          & -0.009 & \\textbf{  Prob(JB):          } &    0.251  \\\\\n",
       "\\textbf{Kurtosis:}      &  2.873 & \\textbf{  Cond. No.          } &     47.0  \\\\\n",
       "\\bottomrule\n",
       "\\end{tabular}\n",
       "%\\caption{OLS Regression Results}\n",
       "\\end{center}\n",
       "\n",
       "Notes: \\newline\n",
       " [1] Standard Errors assume that the covariance matrix of the errors is correctly specified."
      ],
      "text/plain": [
       "<class 'statsmodels.iolib.summary.Summary'>\n",
       "\"\"\"\n",
       "                            OLS Regression Results                            \n",
       "==============================================================================\n",
       "Dep. Variable:            browse_time   R-squared:                       0.892\n",
       "Model:                            OLS   Adj. R-squared:                  0.891\n",
       "Method:                 Least Squares   F-statistic:                     2185.\n",
       "Date:                Sun, 19 Jan 2025   Prob (F-statistic):               0.00\n",
       "Time:                        16:44:13   Log-Likelihood:                -5628.6\n",
       "No. Observations:                4000   AIC:                         1.129e+04\n",
       "Df Residuals:                    3984   BIC:                         1.139e+04\n",
       "Df Model:                          15                                         \n",
       "Covariance Type:            nonrobust                                         \n",
       "===============================================================================================================================================\n",
       "                                                                                  coef    std err          t      P>|t|      [0.025      0.975]\n",
       "-----------------------------------------------------------------------------------------------------------------------------------------------\n",
       "Intercept                                                                      20.0348      0.063    319.897      0.000      19.912      20.158\n",
       "C(tile_size)[T.1]                                                              -0.0773      0.089     -0.872      0.383      -0.251       0.096\n",
       "C(match_score)[T.1]                                                            -3.1372      0.089    -35.420      0.000      -3.311      -2.964\n",
       "C(prev_length)[T.1]                                                            -0.1781      0.089     -2.010      0.044      -0.352      -0.004\n",
       "C(prev_type)[T.1]                                                               4.9717      0.089     56.133      0.000       4.798       5.145\n",
       "C(tile_size)[T.1]:C(match_score)[T.1]                                          -0.0650      0.125     -0.519      0.604      -0.311       0.181\n",
       "C(tile_size)[T.1]:C(prev_length)[T.1]                                           0.1999      0.125      1.596      0.111      -0.046       0.445\n",
       "C(match_score)[T.1]:C(prev_length)[T.1]                                         3.2957      0.125     26.312      0.000       3.050       3.541\n",
       "C(tile_size)[T.1]:C(prev_type)[T.1]                                             0.0731      0.125      0.583      0.560      -0.172       0.319\n",
       "C(match_score)[T.1]:C(prev_type)[T.1]                                           0.0135      0.125      0.107      0.914      -0.232       0.259\n",
       "C(prev_length)[T.1]:C(prev_type)[T.1]                                           0.1328      0.125      1.060      0.289      -0.113       0.378\n",
       "C(tile_size)[T.1]:C(match_score)[T.1]:C(prev_length)[T.1]                      -0.0337      0.177     -0.190      0.849      -0.381       0.314\n",
       "C(tile_size)[T.1]:C(match_score)[T.1]:C(prev_type)[T.1]                         0.1405      0.177      0.793      0.428      -0.207       0.488\n",
       "C(tile_size)[T.1]:C(prev_length)[T.1]:C(prev_type)[T.1]                        -0.2572      0.177     -1.452      0.147      -0.604       0.090\n",
       "C(match_score)[T.1]:C(prev_length)[T.1]:C(prev_type)[T.1]                      -0.3034      0.177     -1.713      0.087      -0.651       0.044\n",
       "C(tile_size)[T.1]:C(match_score)[T.1]:C(prev_length)[T.1]:C(prev_type)[T.1]     0.1588      0.251      0.634      0.526      -0.332       0.650\n",
       "==============================================================================\n",
       "Omnibus:                        2.964   Durbin-Watson:                   1.985\n",
       "Prob(Omnibus):                  0.227   Jarque-Bera (JB):                2.765\n",
       "Skew:                          -0.009   Prob(JB):                        0.251\n",
       "Kurtosis:                       2.873   Cond. No.                         47.0\n",
       "==============================================================================\n",
       "\n",
       "Notes:\n",
       "[1] Standard Errors assume that the covariance matrix of the errors is correctly specified.\n",
       "\"\"\""
      ]
     },
     "execution_count": 6,
     "metadata": {},
     "output_type": "execute_result"
    }
   ],
   "source": [
    "model_df = results_df.copy()\n",
    "\n",
    "model_df['Tile.Size'] = model_df['Tile.Size'].map({0.1: -1, 0.5: 1})\n",
    "model_df['Match.Score'] = model_df['Match.Score'].map({0: -1, 100: 1})\n",
    "model_df['Prev.Length'] = model_df['Prev.Length'].map({30: -1, 120: 1})\n",
    "model_df['Prev.Type'] = model_df['Prev.Type'].map({'TT': -1, 'AC': 1})\n",
    "\n",
    "column_rename = {'Tile.Size': 'tile_size', 'Match.Score': 'match_score', 'Prev.Length': 'prev_length', 'Prev.Type': 'prev_type', 'Browse.Time': 'browse_time'}\n",
    "\n",
    "model_df.rename(columns=column_rename, inplace=True)\n",
    "\n",
    "model1 = ols('browse_time ~ C(tile_size) * C(match_score) * C(prev_length) * C(prev_type)', data=model_df).fit()\n",
    "\n",
    "model1.summary()"
   ]
  },
  {
   "cell_type": "markdown",
   "metadata": {},
   "source": [
    "Based on the output of this model, we can draw a few preliminary conclusions:\n",
    "- tile_size is not a significant predictor. It is not included in any significant interactions and does not have a significant main effect.\n",
    "- match_score is a significant predictor. It has a significant main effect and a significant interaction with prev_length\n",
    "- prev_length is a significant predictor. It has a significant main effect and a significant interaction with match_score.\n",
    "- prev_type is a significant predictor. It has a significant main effect but is not involved in any significant interactions.\n",
    "\n",
    "Because prev_type is not involved in any significant interactions and only has 2 categories, we can conclude that the optimal prev_type is -1 in encoded units which translates to TT in natural units. "
   ]
  },
  {
   "cell_type": "markdown",
   "metadata": {},
   "source": [
    "### Experiment 2:\n",
    "\n",
    "With the conclusions drawn above, we now need to explore only 2 factors. Those are match score and prev_length. To begin to hone in on an optimum for these two variables, we can perform a multi-level factorial experiment for these two predictors. The statistical outcomes we're looking for here will be tested with two group t-tests. \n",
    "\n",
    "We can explore 3 levels of each dispersed evenly throughout the parameter space. In combination with the two extremes tested for each parameter above, this will give us a solid initial understanding of the parameter space. \n",
    "\n",
    "The levels will be as follows:\n",
    "- prev_length: 55, 75, 95\n",
    "- match_score: 25, 50, 75"
   ]
  },
  {
   "cell_type": "markdown",
   "metadata": {},
   "source": [
    "These 3 levels gives us a total of 9 experimental conditions. Since we will be including the two endpoints for each, this ups the total comparisons to 25. This can be used to estimate a sample size similar to what was done above. "
   ]
  },
  {
   "cell_type": "code",
   "execution_count": 7,
   "metadata": {},
   "outputs": [
    {
     "name": "stdout",
     "output_type": "stream",
     "text": [
      "Required sample size per condition: 100\n",
      "Total required sample size: 2500\n"
     ]
    }
   ],
   "source": [
    "from statsmodels.stats.power import TTestIndPower\n",
    "\n",
    "# Define power analysis parameters\n",
    "effect_size = 0.4  # Medium effect size\n",
    "alpha = 0.05       # Significance level\n",
    "power = 0.8        # Desired power\n",
    "num_conditions = 25 \n",
    "\n",
    "# Compute required sample size per condition\n",
    "power_analysis = TTestIndPower()\n",
    "sample_size_per_condition = int(power_analysis.solve_power(effect_size, power=power, alpha=alpha)) + 1  # Round up\n",
    "\n",
    "# Compute total sample size\n",
    "total_sample_size = sample_size_per_condition * num_conditions\n",
    "\n",
    "print(f\"Required sample size per condition: {sample_size_per_condition}\")\n",
    "print(f\"Total required sample size: {total_sample_size}\")"
   ]
  },
  {
   "cell_type": "markdown",
   "metadata": {},
   "source": [
    "The calcaulations are similar to those done before, so we can again perform the experiment with 250 units per condition. With our 9 total conditions, this will give us 2250 units in this experiment and 6250 units total so far. \n",
    "\n",
    "Going forward, we will fix preview type to be TT and tile_size to be 0.2 for the remainder of the experimentation."
   ]
  },
  {
   "cell_type": "code",
   "execution_count": 8,
   "metadata": {},
   "outputs": [
    {
     "data": {
      "text/html": [
       "<div>\n",
       "<style scoped>\n",
       "    .dataframe tbody tr th:only-of-type {\n",
       "        vertical-align: middle;\n",
       "    }\n",
       "\n",
       "    .dataframe tbody tr th {\n",
       "        vertical-align: top;\n",
       "    }\n",
       "\n",
       "    .dataframe thead th {\n",
       "        text-align: right;\n",
       "    }\n",
       "</style>\n",
       "<table border=\"1\" class=\"dataframe\">\n",
       "  <thead>\n",
       "    <tr style=\"text-align: right;\">\n",
       "      <th></th>\n",
       "      <th>Prev.Length</th>\n",
       "      <th>Match.Score</th>\n",
       "      <th>Tile.Size</th>\n",
       "      <th>Prev.Type</th>\n",
       "      <th>Browse.Time</th>\n",
       "    </tr>\n",
       "  </thead>\n",
       "  <tbody>\n",
       "    <tr>\n",
       "      <th>0</th>\n",
       "      <td>55</td>\n",
       "      <td>25</td>\n",
       "      <td>0.2</td>\n",
       "      <td>TT</td>\n",
       "      <td>19.873830</td>\n",
       "    </tr>\n",
       "    <tr>\n",
       "      <th>1</th>\n",
       "      <td>55</td>\n",
       "      <td>25</td>\n",
       "      <td>0.2</td>\n",
       "      <td>TT</td>\n",
       "      <td>20.068301</td>\n",
       "    </tr>\n",
       "    <tr>\n",
       "      <th>2</th>\n",
       "      <td>55</td>\n",
       "      <td>25</td>\n",
       "      <td>0.2</td>\n",
       "      <td>TT</td>\n",
       "      <td>19.509356</td>\n",
       "    </tr>\n",
       "    <tr>\n",
       "      <th>3</th>\n",
       "      <td>55</td>\n",
       "      <td>25</td>\n",
       "      <td>0.2</td>\n",
       "      <td>TT</td>\n",
       "      <td>22.565583</td>\n",
       "    </tr>\n",
       "    <tr>\n",
       "      <th>4</th>\n",
       "      <td>55</td>\n",
       "      <td>25</td>\n",
       "      <td>0.2</td>\n",
       "      <td>TT</td>\n",
       "      <td>20.035554</td>\n",
       "    </tr>\n",
       "  </tbody>\n",
       "</table>\n",
       "</div>"
      ],
      "text/plain": [
       "   Prev.Length  Match.Score  Tile.Size Prev.Type  Browse.Time\n",
       "0           55           25        0.2        TT    19.873830\n",
       "1           55           25        0.2        TT    20.068301\n",
       "2           55           25        0.2        TT    19.509356\n",
       "3           55           25        0.2        TT    22.565583\n",
       "4           55           25        0.2        TT    20.035554"
      ]
     },
     "execution_count": 8,
     "metadata": {},
     "output_type": "execute_result"
    }
   ],
   "source": [
    "results_df2 = pd.read_csv('experiment_2_results.csv')\n",
    "\n",
    "results_df2.head()"
   ]
  },
  {
   "cell_type": "code",
   "execution_count": 9,
   "metadata": {},
   "outputs": [
    {
     "data": {
      "text/html": [
       "<div>\n",
       "<style scoped>\n",
       "    .dataframe tbody tr th:only-of-type {\n",
       "        vertical-align: middle;\n",
       "    }\n",
       "\n",
       "    .dataframe tbody tr th {\n",
       "        vertical-align: top;\n",
       "    }\n",
       "\n",
       "    .dataframe thead th {\n",
       "        text-align: right;\n",
       "    }\n",
       "</style>\n",
       "<table border=\"1\" class=\"dataframe\">\n",
       "  <thead>\n",
       "    <tr style=\"text-align: right;\">\n",
       "      <th></th>\n",
       "      <th>Prev.Length</th>\n",
       "      <th>Match.Score</th>\n",
       "      <th>Tile.Size</th>\n",
       "      <th>Prev.Type</th>\n",
       "      <th>Browse.Time</th>\n",
       "    </tr>\n",
       "  </thead>\n",
       "  <tbody>\n",
       "    <tr>\n",
       "      <th>0</th>\n",
       "      <td>30</td>\n",
       "      <td>0</td>\n",
       "      <td>0.1</td>\n",
       "      <td>TT</td>\n",
       "      <td>19.611889</td>\n",
       "    </tr>\n",
       "    <tr>\n",
       "      <th>1</th>\n",
       "      <td>30</td>\n",
       "      <td>0</td>\n",
       "      <td>0.1</td>\n",
       "      <td>TT</td>\n",
       "      <td>19.047636</td>\n",
       "    </tr>\n",
       "    <tr>\n",
       "      <th>2</th>\n",
       "      <td>30</td>\n",
       "      <td>0</td>\n",
       "      <td>0.1</td>\n",
       "      <td>TT</td>\n",
       "      <td>19.926273</td>\n",
       "    </tr>\n",
       "    <tr>\n",
       "      <th>3</th>\n",
       "      <td>30</td>\n",
       "      <td>0</td>\n",
       "      <td>0.1</td>\n",
       "      <td>TT</td>\n",
       "      <td>20.674456</td>\n",
       "    </tr>\n",
       "    <tr>\n",
       "      <th>4</th>\n",
       "      <td>30</td>\n",
       "      <td>0</td>\n",
       "      <td>0.1</td>\n",
       "      <td>TT</td>\n",
       "      <td>20.483957</td>\n",
       "    </tr>\n",
       "    <tr>\n",
       "      <th>...</th>\n",
       "      <td>...</td>\n",
       "      <td>...</td>\n",
       "      <td>...</td>\n",
       "      <td>...</td>\n",
       "      <td>...</td>\n",
       "    </tr>\n",
       "    <tr>\n",
       "      <th>3995</th>\n",
       "      <td>120</td>\n",
       "      <td>100</td>\n",
       "      <td>0.5</td>\n",
       "      <td>AC</td>\n",
       "      <td>25.389223</td>\n",
       "    </tr>\n",
       "    <tr>\n",
       "      <th>3996</th>\n",
       "      <td>120</td>\n",
       "      <td>100</td>\n",
       "      <td>0.5</td>\n",
       "      <td>AC</td>\n",
       "      <td>24.465392</td>\n",
       "    </tr>\n",
       "    <tr>\n",
       "      <th>3997</th>\n",
       "      <td>120</td>\n",
       "      <td>100</td>\n",
       "      <td>0.5</td>\n",
       "      <td>AC</td>\n",
       "      <td>23.216393</td>\n",
       "    </tr>\n",
       "    <tr>\n",
       "      <th>3998</th>\n",
       "      <td>120</td>\n",
       "      <td>100</td>\n",
       "      <td>0.5</td>\n",
       "      <td>AC</td>\n",
       "      <td>24.420583</td>\n",
       "    </tr>\n",
       "    <tr>\n",
       "      <th>3999</th>\n",
       "      <td>120</td>\n",
       "      <td>100</td>\n",
       "      <td>0.5</td>\n",
       "      <td>AC</td>\n",
       "      <td>25.425620</td>\n",
       "    </tr>\n",
       "  </tbody>\n",
       "</table>\n",
       "<p>4000 rows × 5 columns</p>\n",
       "</div>"
      ],
      "text/plain": [
       "      Prev.Length  Match.Score  Tile.Size Prev.Type  Browse.Time\n",
       "0              30            0        0.1        TT    19.611889\n",
       "1              30            0        0.1        TT    19.047636\n",
       "2              30            0        0.1        TT    19.926273\n",
       "3              30            0        0.1        TT    20.674456\n",
       "4              30            0        0.1        TT    20.483957\n",
       "...           ...          ...        ...       ...          ...\n",
       "3995          120          100        0.5        AC    25.389223\n",
       "3996          120          100        0.5        AC    24.465392\n",
       "3997          120          100        0.5        AC    23.216393\n",
       "3998          120          100        0.5        AC    24.420583\n",
       "3999          120          100        0.5        AC    25.425620\n",
       "\n",
       "[4000 rows x 5 columns]"
      ]
     },
     "execution_count": 9,
     "metadata": {},
     "output_type": "execute_result"
    }
   ],
   "source": [
    "results_df"
   ]
  },
  {
   "cell_type": "code",
   "execution_count": 10,
   "metadata": {},
   "outputs": [],
   "source": [
    "relevant_results = results_df.loc[results_df['Prev.Type'] == 'TT']"
   ]
  },
  {
   "cell_type": "code",
   "execution_count": 11,
   "metadata": {},
   "outputs": [],
   "source": [
    "agg_df = pd.concat([results_df2.copy(), relevant_results])"
   ]
  },
  {
   "cell_type": "code",
   "execution_count": 12,
   "metadata": {},
   "outputs": [
    {
     "data": {
      "application/vnd.plotly.v1+json": {
       "config": {
        "plotlyServerURL": "https://plot.ly"
       },
       "data": [
        {
         "mode": "markers+lines",
         "name": "prev_length",
         "type": "scatter",
         "x": [
          30,
          55,
          75,
          95,
          120
         ],
         "xaxis": "x",
         "y": [
          18.41133914203167,
          16.44471873404577,
          15.355778707545102,
          16.312171778390155,
          19.97267816672394
         ],
         "yaxis": "y"
        },
        {
         "mode": "markers+lines",
         "name": "match_score",
         "type": "scatter",
         "x": [
          0,
          25,
          50,
          75,
          100
         ],
         "xaxis": "x2",
         "y": [
          19.95713684919625,
          19.749355958250398,
          16.225049713019043,
          12.138263548711588,
          18.426880459559364
         ],
         "yaxis": "y2"
        }
       ],
       "layout": {
        "annotations": [
         {
          "font": {
           "size": 16
          },
          "showarrow": false,
          "text": "prev_length",
          "x": 0.225,
          "xanchor": "center",
          "xref": "paper",
          "y": 1,
          "yanchor": "bottom",
          "yref": "paper"
         },
         {
          "font": {
           "size": 16
          },
          "showarrow": false,
          "text": "match_score",
          "x": 0.775,
          "xanchor": "center",
          "xref": "paper",
          "y": 1,
          "yanchor": "bottom",
          "yref": "paper"
         }
        ],
        "height": 600,
        "showlegend": false,
        "template": {
         "data": {
          "bar": [
           {
            "error_x": {
             "color": "rgb(36,36,36)"
            },
            "error_y": {
             "color": "rgb(36,36,36)"
            },
            "marker": {
             "line": {
              "color": "white",
              "width": 0.5
             },
             "pattern": {
              "fillmode": "overlay",
              "size": 10,
              "solidity": 0.2
             }
            },
            "type": "bar"
           }
          ],
          "barpolar": [
           {
            "marker": {
             "line": {
              "color": "white",
              "width": 0.5
             },
             "pattern": {
              "fillmode": "overlay",
              "size": 10,
              "solidity": 0.2
             }
            },
            "type": "barpolar"
           }
          ],
          "carpet": [
           {
            "aaxis": {
             "endlinecolor": "rgb(36,36,36)",
             "gridcolor": "white",
             "linecolor": "white",
             "minorgridcolor": "white",
             "startlinecolor": "rgb(36,36,36)"
            },
            "baxis": {
             "endlinecolor": "rgb(36,36,36)",
             "gridcolor": "white",
             "linecolor": "white",
             "minorgridcolor": "white",
             "startlinecolor": "rgb(36,36,36)"
            },
            "type": "carpet"
           }
          ],
          "choropleth": [
           {
            "colorbar": {
             "outlinewidth": 1,
             "tickcolor": "rgb(36,36,36)",
             "ticks": "outside"
            },
            "type": "choropleth"
           }
          ],
          "contour": [
           {
            "colorbar": {
             "outlinewidth": 1,
             "tickcolor": "rgb(36,36,36)",
             "ticks": "outside"
            },
            "colorscale": [
             [
              0,
              "#440154"
             ],
             [
              0.1111111111111111,
              "#482878"
             ],
             [
              0.2222222222222222,
              "#3e4989"
             ],
             [
              0.3333333333333333,
              "#31688e"
             ],
             [
              0.4444444444444444,
              "#26828e"
             ],
             [
              0.5555555555555556,
              "#1f9e89"
             ],
             [
              0.6666666666666666,
              "#35b779"
             ],
             [
              0.7777777777777778,
              "#6ece58"
             ],
             [
              0.8888888888888888,
              "#b5de2b"
             ],
             [
              1,
              "#fde725"
             ]
            ],
            "type": "contour"
           }
          ],
          "contourcarpet": [
           {
            "colorbar": {
             "outlinewidth": 1,
             "tickcolor": "rgb(36,36,36)",
             "ticks": "outside"
            },
            "type": "contourcarpet"
           }
          ],
          "heatmap": [
           {
            "colorbar": {
             "outlinewidth": 1,
             "tickcolor": "rgb(36,36,36)",
             "ticks": "outside"
            },
            "colorscale": [
             [
              0,
              "#440154"
             ],
             [
              0.1111111111111111,
              "#482878"
             ],
             [
              0.2222222222222222,
              "#3e4989"
             ],
             [
              0.3333333333333333,
              "#31688e"
             ],
             [
              0.4444444444444444,
              "#26828e"
             ],
             [
              0.5555555555555556,
              "#1f9e89"
             ],
             [
              0.6666666666666666,
              "#35b779"
             ],
             [
              0.7777777777777778,
              "#6ece58"
             ],
             [
              0.8888888888888888,
              "#b5de2b"
             ],
             [
              1,
              "#fde725"
             ]
            ],
            "type": "heatmap"
           }
          ],
          "heatmapgl": [
           {
            "colorbar": {
             "outlinewidth": 1,
             "tickcolor": "rgb(36,36,36)",
             "ticks": "outside"
            },
            "colorscale": [
             [
              0,
              "#440154"
             ],
             [
              0.1111111111111111,
              "#482878"
             ],
             [
              0.2222222222222222,
              "#3e4989"
             ],
             [
              0.3333333333333333,
              "#31688e"
             ],
             [
              0.4444444444444444,
              "#26828e"
             ],
             [
              0.5555555555555556,
              "#1f9e89"
             ],
             [
              0.6666666666666666,
              "#35b779"
             ],
             [
              0.7777777777777778,
              "#6ece58"
             ],
             [
              0.8888888888888888,
              "#b5de2b"
             ],
             [
              1,
              "#fde725"
             ]
            ],
            "type": "heatmapgl"
           }
          ],
          "histogram": [
           {
            "marker": {
             "line": {
              "color": "white",
              "width": 0.6
             }
            },
            "type": "histogram"
           }
          ],
          "histogram2d": [
           {
            "colorbar": {
             "outlinewidth": 1,
             "tickcolor": "rgb(36,36,36)",
             "ticks": "outside"
            },
            "colorscale": [
             [
              0,
              "#440154"
             ],
             [
              0.1111111111111111,
              "#482878"
             ],
             [
              0.2222222222222222,
              "#3e4989"
             ],
             [
              0.3333333333333333,
              "#31688e"
             ],
             [
              0.4444444444444444,
              "#26828e"
             ],
             [
              0.5555555555555556,
              "#1f9e89"
             ],
             [
              0.6666666666666666,
              "#35b779"
             ],
             [
              0.7777777777777778,
              "#6ece58"
             ],
             [
              0.8888888888888888,
              "#b5de2b"
             ],
             [
              1,
              "#fde725"
             ]
            ],
            "type": "histogram2d"
           }
          ],
          "histogram2dcontour": [
           {
            "colorbar": {
             "outlinewidth": 1,
             "tickcolor": "rgb(36,36,36)",
             "ticks": "outside"
            },
            "colorscale": [
             [
              0,
              "#440154"
             ],
             [
              0.1111111111111111,
              "#482878"
             ],
             [
              0.2222222222222222,
              "#3e4989"
             ],
             [
              0.3333333333333333,
              "#31688e"
             ],
             [
              0.4444444444444444,
              "#26828e"
             ],
             [
              0.5555555555555556,
              "#1f9e89"
             ],
             [
              0.6666666666666666,
              "#35b779"
             ],
             [
              0.7777777777777778,
              "#6ece58"
             ],
             [
              0.8888888888888888,
              "#b5de2b"
             ],
             [
              1,
              "#fde725"
             ]
            ],
            "type": "histogram2dcontour"
           }
          ],
          "mesh3d": [
           {
            "colorbar": {
             "outlinewidth": 1,
             "tickcolor": "rgb(36,36,36)",
             "ticks": "outside"
            },
            "type": "mesh3d"
           }
          ],
          "parcoords": [
           {
            "line": {
             "colorbar": {
              "outlinewidth": 1,
              "tickcolor": "rgb(36,36,36)",
              "ticks": "outside"
             }
            },
            "type": "parcoords"
           }
          ],
          "pie": [
           {
            "automargin": true,
            "type": "pie"
           }
          ],
          "scatter": [
           {
            "fillpattern": {
             "fillmode": "overlay",
             "size": 10,
             "solidity": 0.2
            },
            "type": "scatter"
           }
          ],
          "scatter3d": [
           {
            "line": {
             "colorbar": {
              "outlinewidth": 1,
              "tickcolor": "rgb(36,36,36)",
              "ticks": "outside"
             }
            },
            "marker": {
             "colorbar": {
              "outlinewidth": 1,
              "tickcolor": "rgb(36,36,36)",
              "ticks": "outside"
             }
            },
            "type": "scatter3d"
           }
          ],
          "scattercarpet": [
           {
            "marker": {
             "colorbar": {
              "outlinewidth": 1,
              "tickcolor": "rgb(36,36,36)",
              "ticks": "outside"
             }
            },
            "type": "scattercarpet"
           }
          ],
          "scattergeo": [
           {
            "marker": {
             "colorbar": {
              "outlinewidth": 1,
              "tickcolor": "rgb(36,36,36)",
              "ticks": "outside"
             }
            },
            "type": "scattergeo"
           }
          ],
          "scattergl": [
           {
            "marker": {
             "colorbar": {
              "outlinewidth": 1,
              "tickcolor": "rgb(36,36,36)",
              "ticks": "outside"
             }
            },
            "type": "scattergl"
           }
          ],
          "scattermapbox": [
           {
            "marker": {
             "colorbar": {
              "outlinewidth": 1,
              "tickcolor": "rgb(36,36,36)",
              "ticks": "outside"
             }
            },
            "type": "scattermapbox"
           }
          ],
          "scatterpolar": [
           {
            "marker": {
             "colorbar": {
              "outlinewidth": 1,
              "tickcolor": "rgb(36,36,36)",
              "ticks": "outside"
             }
            },
            "type": "scatterpolar"
           }
          ],
          "scatterpolargl": [
           {
            "marker": {
             "colorbar": {
              "outlinewidth": 1,
              "tickcolor": "rgb(36,36,36)",
              "ticks": "outside"
             }
            },
            "type": "scatterpolargl"
           }
          ],
          "scatterternary": [
           {
            "marker": {
             "colorbar": {
              "outlinewidth": 1,
              "tickcolor": "rgb(36,36,36)",
              "ticks": "outside"
             }
            },
            "type": "scatterternary"
           }
          ],
          "surface": [
           {
            "colorbar": {
             "outlinewidth": 1,
             "tickcolor": "rgb(36,36,36)",
             "ticks": "outside"
            },
            "colorscale": [
             [
              0,
              "#440154"
             ],
             [
              0.1111111111111111,
              "#482878"
             ],
             [
              0.2222222222222222,
              "#3e4989"
             ],
             [
              0.3333333333333333,
              "#31688e"
             ],
             [
              0.4444444444444444,
              "#26828e"
             ],
             [
              0.5555555555555556,
              "#1f9e89"
             ],
             [
              0.6666666666666666,
              "#35b779"
             ],
             [
              0.7777777777777778,
              "#6ece58"
             ],
             [
              0.8888888888888888,
              "#b5de2b"
             ],
             [
              1,
              "#fde725"
             ]
            ],
            "type": "surface"
           }
          ],
          "table": [
           {
            "cells": {
             "fill": {
              "color": "rgb(237,237,237)"
             },
             "line": {
              "color": "white"
             }
            },
            "header": {
             "fill": {
              "color": "rgb(217,217,217)"
             },
             "line": {
              "color": "white"
             }
            },
            "type": "table"
           }
          ]
         },
         "layout": {
          "annotationdefaults": {
           "arrowhead": 0,
           "arrowwidth": 1
          },
          "autotypenumbers": "strict",
          "coloraxis": {
           "colorbar": {
            "outlinewidth": 1,
            "tickcolor": "rgb(36,36,36)",
            "ticks": "outside"
           }
          },
          "colorscale": {
           "diverging": [
            [
             0,
             "rgb(103,0,31)"
            ],
            [
             0.1,
             "rgb(178,24,43)"
            ],
            [
             0.2,
             "rgb(214,96,77)"
            ],
            [
             0.3,
             "rgb(244,165,130)"
            ],
            [
             0.4,
             "rgb(253,219,199)"
            ],
            [
             0.5,
             "rgb(247,247,247)"
            ],
            [
             0.6,
             "rgb(209,229,240)"
            ],
            [
             0.7,
             "rgb(146,197,222)"
            ],
            [
             0.8,
             "rgb(67,147,195)"
            ],
            [
             0.9,
             "rgb(33,102,172)"
            ],
            [
             1,
             "rgb(5,48,97)"
            ]
           ],
           "sequential": [
            [
             0,
             "#440154"
            ],
            [
             0.1111111111111111,
             "#482878"
            ],
            [
             0.2222222222222222,
             "#3e4989"
            ],
            [
             0.3333333333333333,
             "#31688e"
            ],
            [
             0.4444444444444444,
             "#26828e"
            ],
            [
             0.5555555555555556,
             "#1f9e89"
            ],
            [
             0.6666666666666666,
             "#35b779"
            ],
            [
             0.7777777777777778,
             "#6ece58"
            ],
            [
             0.8888888888888888,
             "#b5de2b"
            ],
            [
             1,
             "#fde725"
            ]
           ],
           "sequentialminus": [
            [
             0,
             "#440154"
            ],
            [
             0.1111111111111111,
             "#482878"
            ],
            [
             0.2222222222222222,
             "#3e4989"
            ],
            [
             0.3333333333333333,
             "#31688e"
            ],
            [
             0.4444444444444444,
             "#26828e"
            ],
            [
             0.5555555555555556,
             "#1f9e89"
            ],
            [
             0.6666666666666666,
             "#35b779"
            ],
            [
             0.7777777777777778,
             "#6ece58"
            ],
            [
             0.8888888888888888,
             "#b5de2b"
            ],
            [
             1,
             "#fde725"
            ]
           ]
          },
          "colorway": [
           "#1F77B4",
           "#FF7F0E",
           "#2CA02C",
           "#D62728",
           "#9467BD",
           "#8C564B",
           "#E377C2",
           "#7F7F7F",
           "#BCBD22",
           "#17BECF"
          ],
          "font": {
           "color": "rgb(36,36,36)"
          },
          "geo": {
           "bgcolor": "white",
           "lakecolor": "white",
           "landcolor": "white",
           "showlakes": true,
           "showland": true,
           "subunitcolor": "white"
          },
          "hoverlabel": {
           "align": "left"
          },
          "hovermode": "closest",
          "mapbox": {
           "style": "light"
          },
          "paper_bgcolor": "white",
          "plot_bgcolor": "white",
          "polar": {
           "angularaxis": {
            "gridcolor": "rgb(232,232,232)",
            "linecolor": "rgb(36,36,36)",
            "showgrid": false,
            "showline": true,
            "ticks": "outside"
           },
           "bgcolor": "white",
           "radialaxis": {
            "gridcolor": "rgb(232,232,232)",
            "linecolor": "rgb(36,36,36)",
            "showgrid": false,
            "showline": true,
            "ticks": "outside"
           }
          },
          "scene": {
           "xaxis": {
            "backgroundcolor": "white",
            "gridcolor": "rgb(232,232,232)",
            "gridwidth": 2,
            "linecolor": "rgb(36,36,36)",
            "showbackground": true,
            "showgrid": false,
            "showline": true,
            "ticks": "outside",
            "zeroline": false,
            "zerolinecolor": "rgb(36,36,36)"
           },
           "yaxis": {
            "backgroundcolor": "white",
            "gridcolor": "rgb(232,232,232)",
            "gridwidth": 2,
            "linecolor": "rgb(36,36,36)",
            "showbackground": true,
            "showgrid": false,
            "showline": true,
            "ticks": "outside",
            "zeroline": false,
            "zerolinecolor": "rgb(36,36,36)"
           },
           "zaxis": {
            "backgroundcolor": "white",
            "gridcolor": "rgb(232,232,232)",
            "gridwidth": 2,
            "linecolor": "rgb(36,36,36)",
            "showbackground": true,
            "showgrid": false,
            "showline": true,
            "ticks": "outside",
            "zeroline": false,
            "zerolinecolor": "rgb(36,36,36)"
           }
          },
          "shapedefaults": {
           "fillcolor": "black",
           "line": {
            "width": 0
           },
           "opacity": 0.3
          },
          "ternary": {
           "aaxis": {
            "gridcolor": "rgb(232,232,232)",
            "linecolor": "rgb(36,36,36)",
            "showgrid": false,
            "showline": true,
            "ticks": "outside"
           },
           "baxis": {
            "gridcolor": "rgb(232,232,232)",
            "linecolor": "rgb(36,36,36)",
            "showgrid": false,
            "showline": true,
            "ticks": "outside"
           },
           "bgcolor": "white",
           "caxis": {
            "gridcolor": "rgb(232,232,232)",
            "linecolor": "rgb(36,36,36)",
            "showgrid": false,
            "showline": true,
            "ticks": "outside"
           }
          },
          "title": {
           "x": 0.05
          },
          "xaxis": {
           "automargin": true,
           "gridcolor": "rgb(232,232,232)",
           "linecolor": "rgb(36,36,36)",
           "showgrid": false,
           "showline": true,
           "ticks": "outside",
           "title": {
            "standoff": 15
           },
           "zeroline": false,
           "zerolinecolor": "rgb(36,36,36)"
          },
          "yaxis": {
           "automargin": true,
           "gridcolor": "rgb(232,232,232)",
           "linecolor": "rgb(36,36,36)",
           "showgrid": false,
           "showline": true,
           "ticks": "outside",
           "title": {
            "standoff": 15
           },
           "zeroline": false,
           "zerolinecolor": "rgb(36,36,36)"
          }
         }
        },
        "title": {
         "text": "Main Effects Plot"
        },
        "width": 1000,
        "xaxis": {
         "anchor": "y",
         "domain": [
          0,
          0.45
         ]
        },
        "xaxis2": {
         "anchor": "y2",
         "domain": [
          0.55,
          1
         ]
        },
        "yaxis": {
         "anchor": "x",
         "domain": [
          0,
          1
         ],
         "showticklabels": true,
         "title": {
          "text": "Average Session Time"
         }
        },
        "yaxis2": {
         "anchor": "x2",
         "domain": [
          0,
          1
         ],
         "matches": "y",
         "showticklabels": true,
         "title": {
          "text": "Average Session Time"
         }
        }
       }
      }
     },
     "metadata": {},
     "output_type": "display_data"
    }
   ],
   "source": [
    "df_prev_len = agg_df.groupby('Prev.Length')['Browse.Time'].mean().reset_index().rename(columns={'Prev.Length': 'level'})\n",
    "df_prev_len['factor'] = 'prev_length'\n",
    "\n",
    "df_match = agg_df.groupby('Match.Score')['Browse.Time'].mean().reset_index().rename(columns={'Match.Score': 'level'})\n",
    "df_match['factor'] = 'match_score'\n",
    "\n",
    "df_effect = pd.concat([df_prev_len, df_match])\n",
    "\n",
    "fig = make_subplots(\n",
    "    rows=1, cols=2,\n",
    "    shared_xaxes=False,\n",
    "    shared_yaxes=True,\n",
    "    subplot_titles=('prev_length', 'match_score')\n",
    ")\n",
    "\n",
    "# Add traces for each factor\n",
    "factors = ['prev_length', 'match_score']\n",
    "for i, factor in enumerate(factors, start=1):\n",
    "    factor_data = df_effect[df_effect['factor'] == factor]\n",
    "    fig.add_trace(\n",
    "        go.Scatter(\n",
    "            x=factor_data['level'],\n",
    "            y=factor_data['Browse.Time'],\n",
    "            mode='markers+lines',\n",
    "            name=factor\n",
    "        ),\n",
    "        row=1, col=i\n",
    "    )\n",
    "\n",
    "# Update layout\n",
    "fig.update_layout(\n",
    "    height=600, width=1000,\n",
    "    title='Main Effects Plot',\n",
    "    showlegend=False,\n",
    "    template='simple_white'\n",
    ")\n",
    "\n",
    "for i in range(1, 4):\n",
    "    fig.update_yaxes(showticklabels=True, row=1, col=i)\n",
    "\n",
    "fig.update_yaxes(title='Average Session Time')\n",
    "\n",
    "# Show plot\n",
    "fig.show()"
   ]
  },
  {
   "cell_type": "code",
   "execution_count": 13,
   "metadata": {},
   "outputs": [
    {
     "data": {
      "application/vnd.plotly.v1+json": {
       "config": {
        "plotlyServerURL": "https://plot.ly"
       },
       "data": [
        {
         "mode": "lines+markers",
         "name": "Prev.Length: 30",
         "type": "scatter",
         "x": [
          0,
          100
         ],
         "xaxis": "x",
         "y": [
          19.996193429194854,
          16.826484854868493
         ],
         "yaxis": "y"
        },
        {
         "mode": "lines+markers",
         "name": "Prev.Length: 120",
         "type": "scatter",
         "x": [
          0,
          100
         ],
         "xaxis": "x",
         "y": [
          19.91808026919765,
          20.027276064250234
         ],
         "yaxis": "y"
        },
        {
         "mode": "lines+markers",
         "name": "Prev.Length: 55",
         "type": "scatter",
         "x": [
          25,
          50,
          75
         ],
         "xaxis": "x",
         "y": [
          19.97125022766989,
          17.277557053483868,
          12.085348920983556
         ],
         "yaxis": "y"
        },
        {
         "mode": "lines+markers",
         "name": "Prev.Length: 75",
         "type": "scatter",
         "x": [
          25,
          50,
          75
         ],
         "xaxis": "x",
         "y": [
          19.851125977431778,
          16.06618188770491,
          10.150028257498617
         ],
         "yaxis": "y"
        },
        {
         "mode": "lines+markers",
         "name": "Prev.Length: 95",
         "type": "scatter",
         "x": [
          25,
          50,
          75
         ],
         "xaxis": "x",
         "y": [
          19.425691669649524,
          15.331410197868344,
          14.179413467652594
         ],
         "yaxis": "y"
        }
       ],
       "layout": {
        "annotations": [
         {
          "font": {
           "size": 16
          },
          "showarrow": false,
          "text": "Match.Score x Prev.Length",
          "x": 0.5,
          "xanchor": "center",
          "xref": "paper",
          "y": 1,
          "yanchor": "bottom",
          "yref": "paper"
         }
        ],
        "height": 600,
        "showlegend": true,
        "template": {
         "data": {
          "bar": [
           {
            "error_x": {
             "color": "rgb(36,36,36)"
            },
            "error_y": {
             "color": "rgb(36,36,36)"
            },
            "marker": {
             "line": {
              "color": "white",
              "width": 0.5
             },
             "pattern": {
              "fillmode": "overlay",
              "size": 10,
              "solidity": 0.2
             }
            },
            "type": "bar"
           }
          ],
          "barpolar": [
           {
            "marker": {
             "line": {
              "color": "white",
              "width": 0.5
             },
             "pattern": {
              "fillmode": "overlay",
              "size": 10,
              "solidity": 0.2
             }
            },
            "type": "barpolar"
           }
          ],
          "carpet": [
           {
            "aaxis": {
             "endlinecolor": "rgb(36,36,36)",
             "gridcolor": "white",
             "linecolor": "white",
             "minorgridcolor": "white",
             "startlinecolor": "rgb(36,36,36)"
            },
            "baxis": {
             "endlinecolor": "rgb(36,36,36)",
             "gridcolor": "white",
             "linecolor": "white",
             "minorgridcolor": "white",
             "startlinecolor": "rgb(36,36,36)"
            },
            "type": "carpet"
           }
          ],
          "choropleth": [
           {
            "colorbar": {
             "outlinewidth": 1,
             "tickcolor": "rgb(36,36,36)",
             "ticks": "outside"
            },
            "type": "choropleth"
           }
          ],
          "contour": [
           {
            "colorbar": {
             "outlinewidth": 1,
             "tickcolor": "rgb(36,36,36)",
             "ticks": "outside"
            },
            "colorscale": [
             [
              0,
              "#440154"
             ],
             [
              0.1111111111111111,
              "#482878"
             ],
             [
              0.2222222222222222,
              "#3e4989"
             ],
             [
              0.3333333333333333,
              "#31688e"
             ],
             [
              0.4444444444444444,
              "#26828e"
             ],
             [
              0.5555555555555556,
              "#1f9e89"
             ],
             [
              0.6666666666666666,
              "#35b779"
             ],
             [
              0.7777777777777778,
              "#6ece58"
             ],
             [
              0.8888888888888888,
              "#b5de2b"
             ],
             [
              1,
              "#fde725"
             ]
            ],
            "type": "contour"
           }
          ],
          "contourcarpet": [
           {
            "colorbar": {
             "outlinewidth": 1,
             "tickcolor": "rgb(36,36,36)",
             "ticks": "outside"
            },
            "type": "contourcarpet"
           }
          ],
          "heatmap": [
           {
            "colorbar": {
             "outlinewidth": 1,
             "tickcolor": "rgb(36,36,36)",
             "ticks": "outside"
            },
            "colorscale": [
             [
              0,
              "#440154"
             ],
             [
              0.1111111111111111,
              "#482878"
             ],
             [
              0.2222222222222222,
              "#3e4989"
             ],
             [
              0.3333333333333333,
              "#31688e"
             ],
             [
              0.4444444444444444,
              "#26828e"
             ],
             [
              0.5555555555555556,
              "#1f9e89"
             ],
             [
              0.6666666666666666,
              "#35b779"
             ],
             [
              0.7777777777777778,
              "#6ece58"
             ],
             [
              0.8888888888888888,
              "#b5de2b"
             ],
             [
              1,
              "#fde725"
             ]
            ],
            "type": "heatmap"
           }
          ],
          "heatmapgl": [
           {
            "colorbar": {
             "outlinewidth": 1,
             "tickcolor": "rgb(36,36,36)",
             "ticks": "outside"
            },
            "colorscale": [
             [
              0,
              "#440154"
             ],
             [
              0.1111111111111111,
              "#482878"
             ],
             [
              0.2222222222222222,
              "#3e4989"
             ],
             [
              0.3333333333333333,
              "#31688e"
             ],
             [
              0.4444444444444444,
              "#26828e"
             ],
             [
              0.5555555555555556,
              "#1f9e89"
             ],
             [
              0.6666666666666666,
              "#35b779"
             ],
             [
              0.7777777777777778,
              "#6ece58"
             ],
             [
              0.8888888888888888,
              "#b5de2b"
             ],
             [
              1,
              "#fde725"
             ]
            ],
            "type": "heatmapgl"
           }
          ],
          "histogram": [
           {
            "marker": {
             "line": {
              "color": "white",
              "width": 0.6
             }
            },
            "type": "histogram"
           }
          ],
          "histogram2d": [
           {
            "colorbar": {
             "outlinewidth": 1,
             "tickcolor": "rgb(36,36,36)",
             "ticks": "outside"
            },
            "colorscale": [
             [
              0,
              "#440154"
             ],
             [
              0.1111111111111111,
              "#482878"
             ],
             [
              0.2222222222222222,
              "#3e4989"
             ],
             [
              0.3333333333333333,
              "#31688e"
             ],
             [
              0.4444444444444444,
              "#26828e"
             ],
             [
              0.5555555555555556,
              "#1f9e89"
             ],
             [
              0.6666666666666666,
              "#35b779"
             ],
             [
              0.7777777777777778,
              "#6ece58"
             ],
             [
              0.8888888888888888,
              "#b5de2b"
             ],
             [
              1,
              "#fde725"
             ]
            ],
            "type": "histogram2d"
           }
          ],
          "histogram2dcontour": [
           {
            "colorbar": {
             "outlinewidth": 1,
             "tickcolor": "rgb(36,36,36)",
             "ticks": "outside"
            },
            "colorscale": [
             [
              0,
              "#440154"
             ],
             [
              0.1111111111111111,
              "#482878"
             ],
             [
              0.2222222222222222,
              "#3e4989"
             ],
             [
              0.3333333333333333,
              "#31688e"
             ],
             [
              0.4444444444444444,
              "#26828e"
             ],
             [
              0.5555555555555556,
              "#1f9e89"
             ],
             [
              0.6666666666666666,
              "#35b779"
             ],
             [
              0.7777777777777778,
              "#6ece58"
             ],
             [
              0.8888888888888888,
              "#b5de2b"
             ],
             [
              1,
              "#fde725"
             ]
            ],
            "type": "histogram2dcontour"
           }
          ],
          "mesh3d": [
           {
            "colorbar": {
             "outlinewidth": 1,
             "tickcolor": "rgb(36,36,36)",
             "ticks": "outside"
            },
            "type": "mesh3d"
           }
          ],
          "parcoords": [
           {
            "line": {
             "colorbar": {
              "outlinewidth": 1,
              "tickcolor": "rgb(36,36,36)",
              "ticks": "outside"
             }
            },
            "type": "parcoords"
           }
          ],
          "pie": [
           {
            "automargin": true,
            "type": "pie"
           }
          ],
          "scatter": [
           {
            "fillpattern": {
             "fillmode": "overlay",
             "size": 10,
             "solidity": 0.2
            },
            "type": "scatter"
           }
          ],
          "scatter3d": [
           {
            "line": {
             "colorbar": {
              "outlinewidth": 1,
              "tickcolor": "rgb(36,36,36)",
              "ticks": "outside"
             }
            },
            "marker": {
             "colorbar": {
              "outlinewidth": 1,
              "tickcolor": "rgb(36,36,36)",
              "ticks": "outside"
             }
            },
            "type": "scatter3d"
           }
          ],
          "scattercarpet": [
           {
            "marker": {
             "colorbar": {
              "outlinewidth": 1,
              "tickcolor": "rgb(36,36,36)",
              "ticks": "outside"
             }
            },
            "type": "scattercarpet"
           }
          ],
          "scattergeo": [
           {
            "marker": {
             "colorbar": {
              "outlinewidth": 1,
              "tickcolor": "rgb(36,36,36)",
              "ticks": "outside"
             }
            },
            "type": "scattergeo"
           }
          ],
          "scattergl": [
           {
            "marker": {
             "colorbar": {
              "outlinewidth": 1,
              "tickcolor": "rgb(36,36,36)",
              "ticks": "outside"
             }
            },
            "type": "scattergl"
           }
          ],
          "scattermapbox": [
           {
            "marker": {
             "colorbar": {
              "outlinewidth": 1,
              "tickcolor": "rgb(36,36,36)",
              "ticks": "outside"
             }
            },
            "type": "scattermapbox"
           }
          ],
          "scatterpolar": [
           {
            "marker": {
             "colorbar": {
              "outlinewidth": 1,
              "tickcolor": "rgb(36,36,36)",
              "ticks": "outside"
             }
            },
            "type": "scatterpolar"
           }
          ],
          "scatterpolargl": [
           {
            "marker": {
             "colorbar": {
              "outlinewidth": 1,
              "tickcolor": "rgb(36,36,36)",
              "ticks": "outside"
             }
            },
            "type": "scatterpolargl"
           }
          ],
          "scatterternary": [
           {
            "marker": {
             "colorbar": {
              "outlinewidth": 1,
              "tickcolor": "rgb(36,36,36)",
              "ticks": "outside"
             }
            },
            "type": "scatterternary"
           }
          ],
          "surface": [
           {
            "colorbar": {
             "outlinewidth": 1,
             "tickcolor": "rgb(36,36,36)",
             "ticks": "outside"
            },
            "colorscale": [
             [
              0,
              "#440154"
             ],
             [
              0.1111111111111111,
              "#482878"
             ],
             [
              0.2222222222222222,
              "#3e4989"
             ],
             [
              0.3333333333333333,
              "#31688e"
             ],
             [
              0.4444444444444444,
              "#26828e"
             ],
             [
              0.5555555555555556,
              "#1f9e89"
             ],
             [
              0.6666666666666666,
              "#35b779"
             ],
             [
              0.7777777777777778,
              "#6ece58"
             ],
             [
              0.8888888888888888,
              "#b5de2b"
             ],
             [
              1,
              "#fde725"
             ]
            ],
            "type": "surface"
           }
          ],
          "table": [
           {
            "cells": {
             "fill": {
              "color": "rgb(237,237,237)"
             },
             "line": {
              "color": "white"
             }
            },
            "header": {
             "fill": {
              "color": "rgb(217,217,217)"
             },
             "line": {
              "color": "white"
             }
            },
            "type": "table"
           }
          ]
         },
         "layout": {
          "annotationdefaults": {
           "arrowhead": 0,
           "arrowwidth": 1
          },
          "autotypenumbers": "strict",
          "coloraxis": {
           "colorbar": {
            "outlinewidth": 1,
            "tickcolor": "rgb(36,36,36)",
            "ticks": "outside"
           }
          },
          "colorscale": {
           "diverging": [
            [
             0,
             "rgb(103,0,31)"
            ],
            [
             0.1,
             "rgb(178,24,43)"
            ],
            [
             0.2,
             "rgb(214,96,77)"
            ],
            [
             0.3,
             "rgb(244,165,130)"
            ],
            [
             0.4,
             "rgb(253,219,199)"
            ],
            [
             0.5,
             "rgb(247,247,247)"
            ],
            [
             0.6,
             "rgb(209,229,240)"
            ],
            [
             0.7,
             "rgb(146,197,222)"
            ],
            [
             0.8,
             "rgb(67,147,195)"
            ],
            [
             0.9,
             "rgb(33,102,172)"
            ],
            [
             1,
             "rgb(5,48,97)"
            ]
           ],
           "sequential": [
            [
             0,
             "#440154"
            ],
            [
             0.1111111111111111,
             "#482878"
            ],
            [
             0.2222222222222222,
             "#3e4989"
            ],
            [
             0.3333333333333333,
             "#31688e"
            ],
            [
             0.4444444444444444,
             "#26828e"
            ],
            [
             0.5555555555555556,
             "#1f9e89"
            ],
            [
             0.6666666666666666,
             "#35b779"
            ],
            [
             0.7777777777777778,
             "#6ece58"
            ],
            [
             0.8888888888888888,
             "#b5de2b"
            ],
            [
             1,
             "#fde725"
            ]
           ],
           "sequentialminus": [
            [
             0,
             "#440154"
            ],
            [
             0.1111111111111111,
             "#482878"
            ],
            [
             0.2222222222222222,
             "#3e4989"
            ],
            [
             0.3333333333333333,
             "#31688e"
            ],
            [
             0.4444444444444444,
             "#26828e"
            ],
            [
             0.5555555555555556,
             "#1f9e89"
            ],
            [
             0.6666666666666666,
             "#35b779"
            ],
            [
             0.7777777777777778,
             "#6ece58"
            ],
            [
             0.8888888888888888,
             "#b5de2b"
            ],
            [
             1,
             "#fde725"
            ]
           ]
          },
          "colorway": [
           "#1F77B4",
           "#FF7F0E",
           "#2CA02C",
           "#D62728",
           "#9467BD",
           "#8C564B",
           "#E377C2",
           "#7F7F7F",
           "#BCBD22",
           "#17BECF"
          ],
          "font": {
           "color": "rgb(36,36,36)"
          },
          "geo": {
           "bgcolor": "white",
           "lakecolor": "white",
           "landcolor": "white",
           "showlakes": true,
           "showland": true,
           "subunitcolor": "white"
          },
          "hoverlabel": {
           "align": "left"
          },
          "hovermode": "closest",
          "mapbox": {
           "style": "light"
          },
          "paper_bgcolor": "white",
          "plot_bgcolor": "white",
          "polar": {
           "angularaxis": {
            "gridcolor": "rgb(232,232,232)",
            "linecolor": "rgb(36,36,36)",
            "showgrid": false,
            "showline": true,
            "ticks": "outside"
           },
           "bgcolor": "white",
           "radialaxis": {
            "gridcolor": "rgb(232,232,232)",
            "linecolor": "rgb(36,36,36)",
            "showgrid": false,
            "showline": true,
            "ticks": "outside"
           }
          },
          "scene": {
           "xaxis": {
            "backgroundcolor": "white",
            "gridcolor": "rgb(232,232,232)",
            "gridwidth": 2,
            "linecolor": "rgb(36,36,36)",
            "showbackground": true,
            "showgrid": false,
            "showline": true,
            "ticks": "outside",
            "zeroline": false,
            "zerolinecolor": "rgb(36,36,36)"
           },
           "yaxis": {
            "backgroundcolor": "white",
            "gridcolor": "rgb(232,232,232)",
            "gridwidth": 2,
            "linecolor": "rgb(36,36,36)",
            "showbackground": true,
            "showgrid": false,
            "showline": true,
            "ticks": "outside",
            "zeroline": false,
            "zerolinecolor": "rgb(36,36,36)"
           },
           "zaxis": {
            "backgroundcolor": "white",
            "gridcolor": "rgb(232,232,232)",
            "gridwidth": 2,
            "linecolor": "rgb(36,36,36)",
            "showbackground": true,
            "showgrid": false,
            "showline": true,
            "ticks": "outside",
            "zeroline": false,
            "zerolinecolor": "rgb(36,36,36)"
           }
          },
          "shapedefaults": {
           "fillcolor": "black",
           "line": {
            "width": 0
           },
           "opacity": 0.3
          },
          "ternary": {
           "aaxis": {
            "gridcolor": "rgb(232,232,232)",
            "linecolor": "rgb(36,36,36)",
            "showgrid": false,
            "showline": true,
            "ticks": "outside"
           },
           "baxis": {
            "gridcolor": "rgb(232,232,232)",
            "linecolor": "rgb(36,36,36)",
            "showgrid": false,
            "showline": true,
            "ticks": "outside"
           },
           "bgcolor": "white",
           "caxis": {
            "gridcolor": "rgb(232,232,232)",
            "linecolor": "rgb(36,36,36)",
            "showgrid": false,
            "showline": true,
            "ticks": "outside"
           }
          },
          "title": {
           "x": 0.05
          },
          "xaxis": {
           "automargin": true,
           "gridcolor": "rgb(232,232,232)",
           "linecolor": "rgb(36,36,36)",
           "showgrid": false,
           "showline": true,
           "ticks": "outside",
           "title": {
            "standoff": 15
           },
           "zeroline": false,
           "zerolinecolor": "rgb(36,36,36)"
          },
          "yaxis": {
           "automargin": true,
           "gridcolor": "rgb(232,232,232)",
           "linecolor": "rgb(36,36,36)",
           "showgrid": false,
           "showline": true,
           "ticks": "outside",
           "title": {
            "standoff": 15
           },
           "zeroline": false,
           "zerolinecolor": "rgb(36,36,36)"
          }
         }
        },
        "title": {
         "text": "Two-Factor Interaction Plots"
        },
        "width": 900,
        "xaxis": {
         "anchor": "y",
         "domain": [
          0,
          1
         ]
        },
        "yaxis": {
         "anchor": "x",
         "domain": [
          0,
          1
         ],
         "title": {
          "text": "Average Session Time"
         }
        }
       }
      }
     },
     "metadata": {},
     "output_type": "display_data"
    }
   ],
   "source": [
    "factor_pairs = list(combinations(['Match.Score', 'Prev.Length'], 2))\n",
    "\n",
    "fig = make_subplots(\n",
    "    rows=len(factor_pairs), cols=1,\n",
    "    subplot_titles=[f'{factor_x} x {factor_y}' for factor_x, factor_y in factor_pairs],\n",
    "    shared_yaxes=True\n",
    ")\n",
    "\n",
    "for col, (factor_x, factor_y) in enumerate(factor_pairs, start=1):\n",
    "    grouped_data = (\n",
    "        agg_df.groupby([factor_x, factor_y])['Browse.Time']\n",
    "        .mean()\n",
    "        .reset_index()\n",
    "        .sort_values(by=factor_x) \n",
    "    )\n",
    "    \n",
    "    for level in grouped_data[factor_y].unique():\n",
    "        subset = grouped_data[grouped_data[factor_y] == level]\n",
    "        fig.add_trace(\n",
    "            go.Scatter(\n",
    "                x=subset[factor_x],\n",
    "                y=subset['Browse.Time'],\n",
    "                mode='lines+markers',\n",
    "                name=f\"{factor_y}: {level}\",\n",
    "            ),\n",
    "            row=col, col=1\n",
    "        )\n",
    "\n",
    "# Update layout\n",
    "fig.update_layout(\n",
    "    height=600, width=900,\n",
    "    title=\"Two-Factor Interaction Plots\",\n",
    "    template='simple_white',\n",
    "    showlegend=True\n",
    ")\n",
    "\n",
    "# Fix shared y-axis title\n",
    "fig.update_yaxes(title_text='Average Session Time')\n",
    "\n",
    "# Show the plot\n",
    "fig.show()"
   ]
  },
  {
   "cell_type": "markdown",
   "metadata": {},
   "source": [
    "From these plots, we get a decent idea of where the optimum for each parameter is. For prev_length, it seems to be between 50 and 90. For match_score, it also looks to be between 50 and 90.\n",
    "\n",
    "We can use these as our -1/+1 conditions for a ccd experiment now."
   ]
  },
  {
   "cell_type": "code",
   "execution_count": 14,
   "metadata": {},
   "outputs": [
    {
     "data": {
      "text/html": [
       "<div>\n",
       "<style scoped>\n",
       "    .dataframe tbody tr th:only-of-type {\n",
       "        vertical-align: middle;\n",
       "    }\n",
       "\n",
       "    .dataframe tbody tr th {\n",
       "        vertical-align: top;\n",
       "    }\n",
       "\n",
       "    .dataframe thead th {\n",
       "        text-align: right;\n",
       "    }\n",
       "</style>\n",
       "<table border=\"1\" class=\"dataframe\">\n",
       "  <thead>\n",
       "    <tr style=\"text-align: right;\">\n",
       "      <th></th>\n",
       "      <th>Prev.Length</th>\n",
       "      <th>Match.Score</th>\n",
       "      <th>Tile.Size</th>\n",
       "      <th>Prev.Type</th>\n",
       "    </tr>\n",
       "  </thead>\n",
       "  <tbody>\n",
       "    <tr>\n",
       "      <th>0</th>\n",
       "      <td>50.000000</td>\n",
       "      <td>50.000000</td>\n",
       "      <td>0.2</td>\n",
       "      <td>TT</td>\n",
       "    </tr>\n",
       "    <tr>\n",
       "      <th>1</th>\n",
       "      <td>50.000000</td>\n",
       "      <td>90.000000</td>\n",
       "      <td>0.2</td>\n",
       "      <td>TT</td>\n",
       "    </tr>\n",
       "    <tr>\n",
       "      <th>2</th>\n",
       "      <td>90.000000</td>\n",
       "      <td>50.000000</td>\n",
       "      <td>0.2</td>\n",
       "      <td>TT</td>\n",
       "    </tr>\n",
       "    <tr>\n",
       "      <th>3</th>\n",
       "      <td>90.000000</td>\n",
       "      <td>90.000000</td>\n",
       "      <td>0.2</td>\n",
       "      <td>TT</td>\n",
       "    </tr>\n",
       "    <tr>\n",
       "      <th>4</th>\n",
       "      <td>70.000000</td>\n",
       "      <td>70.000000</td>\n",
       "      <td>0.2</td>\n",
       "      <td>TT</td>\n",
       "    </tr>\n",
       "    <tr>\n",
       "      <th>5</th>\n",
       "      <td>70.000000</td>\n",
       "      <td>70.000000</td>\n",
       "      <td>0.2</td>\n",
       "      <td>TT</td>\n",
       "    </tr>\n",
       "    <tr>\n",
       "      <th>6</th>\n",
       "      <td>70.000000</td>\n",
       "      <td>70.000000</td>\n",
       "      <td>0.2</td>\n",
       "      <td>TT</td>\n",
       "    </tr>\n",
       "    <tr>\n",
       "      <th>7</th>\n",
       "      <td>70.000000</td>\n",
       "      <td>70.000000</td>\n",
       "      <td>0.2</td>\n",
       "      <td>TT</td>\n",
       "    </tr>\n",
       "    <tr>\n",
       "      <th>8</th>\n",
       "      <td>41.715729</td>\n",
       "      <td>70.000000</td>\n",
       "      <td>0.2</td>\n",
       "      <td>TT</td>\n",
       "    </tr>\n",
       "    <tr>\n",
       "      <th>9</th>\n",
       "      <td>98.284271</td>\n",
       "      <td>70.000000</td>\n",
       "      <td>0.2</td>\n",
       "      <td>TT</td>\n",
       "    </tr>\n",
       "    <tr>\n",
       "      <th>10</th>\n",
       "      <td>70.000000</td>\n",
       "      <td>41.715729</td>\n",
       "      <td>0.2</td>\n",
       "      <td>TT</td>\n",
       "    </tr>\n",
       "    <tr>\n",
       "      <th>11</th>\n",
       "      <td>70.000000</td>\n",
       "      <td>98.284271</td>\n",
       "      <td>0.2</td>\n",
       "      <td>TT</td>\n",
       "    </tr>\n",
       "    <tr>\n",
       "      <th>12</th>\n",
       "      <td>70.000000</td>\n",
       "      <td>70.000000</td>\n",
       "      <td>0.2</td>\n",
       "      <td>TT</td>\n",
       "    </tr>\n",
       "    <tr>\n",
       "      <th>13</th>\n",
       "      <td>70.000000</td>\n",
       "      <td>70.000000</td>\n",
       "      <td>0.2</td>\n",
       "      <td>TT</td>\n",
       "    </tr>\n",
       "    <tr>\n",
       "      <th>14</th>\n",
       "      <td>70.000000</td>\n",
       "      <td>70.000000</td>\n",
       "      <td>0.2</td>\n",
       "      <td>TT</td>\n",
       "    </tr>\n",
       "    <tr>\n",
       "      <th>15</th>\n",
       "      <td>70.000000</td>\n",
       "      <td>70.000000</td>\n",
       "      <td>0.2</td>\n",
       "      <td>TT</td>\n",
       "    </tr>\n",
       "  </tbody>\n",
       "</table>\n",
       "</div>"
      ],
      "text/plain": [
       "    Prev.Length  Match.Score  Tile.Size Prev.Type\n",
       "0     50.000000    50.000000        0.2        TT\n",
       "1     50.000000    90.000000        0.2        TT\n",
       "2     90.000000    50.000000        0.2        TT\n",
       "3     90.000000    90.000000        0.2        TT\n",
       "4     70.000000    70.000000        0.2        TT\n",
       "5     70.000000    70.000000        0.2        TT\n",
       "6     70.000000    70.000000        0.2        TT\n",
       "7     70.000000    70.000000        0.2        TT\n",
       "8     41.715729    70.000000        0.2        TT\n",
       "9     98.284271    70.000000        0.2        TT\n",
       "10    70.000000    41.715729        0.2        TT\n",
       "11    70.000000    98.284271        0.2        TT\n",
       "12    70.000000    70.000000        0.2        TT\n",
       "13    70.000000    70.000000        0.2        TT\n",
       "14    70.000000    70.000000        0.2        TT\n",
       "15    70.000000    70.000000        0.2        TT"
      ]
     },
     "execution_count": 14,
     "metadata": {},
     "output_type": "execute_result"
    }
   ],
   "source": [
    "from pyDOE3 import ccdesign\n",
    "ccd_design = ccdesign(2, center=(4, 4))\n",
    "\n",
    "ccd_df = pd.DataFrame(ccd_design, columns=['Prev.Length', 'Match.Score'])\n",
    "\n",
    "ccd_df['Tile.Size'] = 0.2\n",
    "ccd_df['Prev.Type'] = 'TT'\n",
    "\n",
    "def encode_prev(num):\n",
    "    return (num-70) / 20\n",
    "\n",
    "def encode_match(num):\n",
    "    return (num-70) / 20\n",
    "\n",
    "def decode_prev(num):\n",
    "    return num*20+70\n",
    "\n",
    "def decode_match(num):\n",
    "    return num*20+70\n",
    "\n",
    "ccd_df['Prev.Length'] = ccd_df['Prev.Length'].apply(decode_prev)\n",
    "ccd_df['Match.Score'] = ccd_df['Match.Score'].apply(decode_match)\n",
    "\n",
    "ccd_df.to_csv('experiment_3_design.csv', index=False)\n",
    "\n",
    "ccd_df"
   ]
  },
  {
   "cell_type": "markdown",
   "metadata": {},
   "source": [
    "For this experiment, we can again do 250 units per condition for safety. This leads to 4000 units for this experiment and a total of 10,250 units so far."
   ]
  },
  {
   "cell_type": "code",
   "execution_count": 15,
   "metadata": {},
   "outputs": [
    {
     "data": {
      "text/html": [
       "<div>\n",
       "<style scoped>\n",
       "    .dataframe tbody tr th:only-of-type {\n",
       "        vertical-align: middle;\n",
       "    }\n",
       "\n",
       "    .dataframe tbody tr th {\n",
       "        vertical-align: top;\n",
       "    }\n",
       "\n",
       "    .dataframe thead th {\n",
       "        text-align: right;\n",
       "    }\n",
       "</style>\n",
       "<table border=\"1\" class=\"dataframe\">\n",
       "  <thead>\n",
       "    <tr style=\"text-align: right;\">\n",
       "      <th></th>\n",
       "      <th>Prev.Length</th>\n",
       "      <th>Match.Score</th>\n",
       "      <th>Tile.Size</th>\n",
       "      <th>Prev.Type</th>\n",
       "      <th>Browse.Time</th>\n",
       "    </tr>\n",
       "  </thead>\n",
       "  <tbody>\n",
       "    <tr>\n",
       "      <th>0</th>\n",
       "      <td>50</td>\n",
       "      <td>50</td>\n",
       "      <td>0.2</td>\n",
       "      <td>TT</td>\n",
       "      <td>16.629992</td>\n",
       "    </tr>\n",
       "    <tr>\n",
       "      <th>1</th>\n",
       "      <td>50</td>\n",
       "      <td>50</td>\n",
       "      <td>0.2</td>\n",
       "      <td>TT</td>\n",
       "      <td>17.420920</td>\n",
       "    </tr>\n",
       "    <tr>\n",
       "      <th>2</th>\n",
       "      <td>50</td>\n",
       "      <td>50</td>\n",
       "      <td>0.2</td>\n",
       "      <td>TT</td>\n",
       "      <td>17.053219</td>\n",
       "    </tr>\n",
       "    <tr>\n",
       "      <th>3</th>\n",
       "      <td>50</td>\n",
       "      <td>50</td>\n",
       "      <td>0.2</td>\n",
       "      <td>TT</td>\n",
       "      <td>17.416145</td>\n",
       "    </tr>\n",
       "    <tr>\n",
       "      <th>4</th>\n",
       "      <td>50</td>\n",
       "      <td>50</td>\n",
       "      <td>0.2</td>\n",
       "      <td>TT</td>\n",
       "      <td>17.121403</td>\n",
       "    </tr>\n",
       "  </tbody>\n",
       "</table>\n",
       "</div>"
      ],
      "text/plain": [
       "   Prev.Length  Match.Score  Tile.Size Prev.Type  Browse.Time\n",
       "0           50           50        0.2        TT    16.629992\n",
       "1           50           50        0.2        TT    17.420920\n",
       "2           50           50        0.2        TT    17.053219\n",
       "3           50           50        0.2        TT    17.416145\n",
       "4           50           50        0.2        TT    17.121403"
      ]
     },
     "execution_count": 15,
     "metadata": {},
     "output_type": "execute_result"
    }
   ],
   "source": [
    "results_df3 = pd.read_csv(\"experiment_3_results.csv\")\n",
    "\n",
    "# Ensure the correct column names\n",
    "results_df3.head()"
   ]
  },
  {
   "cell_type": "code",
   "execution_count": 16,
   "metadata": {},
   "outputs": [
    {
     "data": {
      "text/plain": [
       "10.49739903301157"
      ]
     },
     "execution_count": 16,
     "metadata": {},
     "output_type": "execute_result"
    }
   ],
   "source": [
    "results_df3[(results_df3['Prev.Length'] == 70) & (results_df3['Match.Score'] == 70)]['Browse.Time'].mean()"
   ]
  },
  {
   "cell_type": "code",
   "execution_count": 17,
   "metadata": {},
   "outputs": [
    {
     "data": {
      "text/html": [
       "<div>\n",
       "<style scoped>\n",
       "    .dataframe tbody tr th:only-of-type {\n",
       "        vertical-align: middle;\n",
       "    }\n",
       "\n",
       "    .dataframe tbody tr th {\n",
       "        vertical-align: top;\n",
       "    }\n",
       "\n",
       "    .dataframe thead th {\n",
       "        text-align: right;\n",
       "    }\n",
       "</style>\n",
       "<table border=\"1\" class=\"dataframe\">\n",
       "  <thead>\n",
       "    <tr style=\"text-align: right;\">\n",
       "      <th></th>\n",
       "      <th>prev_length</th>\n",
       "      <th>match_score</th>\n",
       "      <th>tile_size</th>\n",
       "      <th>prev_type</th>\n",
       "      <th>browse_time</th>\n",
       "    </tr>\n",
       "  </thead>\n",
       "  <tbody>\n",
       "    <tr>\n",
       "      <th>0</th>\n",
       "      <td>-1.0</td>\n",
       "      <td>-1.0</td>\n",
       "      <td>0.2</td>\n",
       "      <td>TT</td>\n",
       "      <td>16.629992</td>\n",
       "    </tr>\n",
       "    <tr>\n",
       "      <th>1</th>\n",
       "      <td>-1.0</td>\n",
       "      <td>-1.0</td>\n",
       "      <td>0.2</td>\n",
       "      <td>TT</td>\n",
       "      <td>17.420920</td>\n",
       "    </tr>\n",
       "    <tr>\n",
       "      <th>2</th>\n",
       "      <td>-1.0</td>\n",
       "      <td>-1.0</td>\n",
       "      <td>0.2</td>\n",
       "      <td>TT</td>\n",
       "      <td>17.053219</td>\n",
       "    </tr>\n",
       "    <tr>\n",
       "      <th>3</th>\n",
       "      <td>-1.0</td>\n",
       "      <td>-1.0</td>\n",
       "      <td>0.2</td>\n",
       "      <td>TT</td>\n",
       "      <td>17.416145</td>\n",
       "    </tr>\n",
       "    <tr>\n",
       "      <th>4</th>\n",
       "      <td>-1.0</td>\n",
       "      <td>-1.0</td>\n",
       "      <td>0.2</td>\n",
       "      <td>TT</td>\n",
       "      <td>17.121403</td>\n",
       "    </tr>\n",
       "  </tbody>\n",
       "</table>\n",
       "</div>"
      ],
      "text/plain": [
       "   prev_length  match_score  tile_size prev_type  browse_time\n",
       "0         -1.0         -1.0        0.2        TT    16.629992\n",
       "1         -1.0         -1.0        0.2        TT    17.420920\n",
       "2         -1.0         -1.0        0.2        TT    17.053219\n",
       "3         -1.0         -1.0        0.2        TT    17.416145\n",
       "4         -1.0         -1.0        0.2        TT    17.121403"
      ]
     },
     "execution_count": 17,
     "metadata": {},
     "output_type": "execute_result"
    }
   ],
   "source": [
    "model_df3 = results_df3.copy()\n",
    "\n",
    "model_df3['Prev.Length'] = model_df3['Prev.Length'].apply(encode_prev)\n",
    "model_df3['Match.Score'] = model_df3['Match.Score'].apply(encode_match)\n",
    "\n",
    "column_rename = {'Tile.Size': 'tile_size', 'Match.Score': 'match_score', 'Prev.Length': 'prev_length', 'Prev.Type': 'prev_type', 'Browse.Time': 'browse_time'}\n",
    "\n",
    "model_df3.rename(columns=column_rename, inplace=True)\n",
    "\n",
    "model_df3.head()"
   ]
  },
  {
   "cell_type": "code",
   "execution_count": 46,
   "metadata": {},
   "outputs": [
    {
     "data": {
      "text/html": [
       "<table class=\"simpletable\">\n",
       "<caption>OLS Regression Results</caption>\n",
       "<tr>\n",
       "  <th>Dep. Variable:</th>       <td>browse_time</td>   <th>  R-squared:         </th> <td>   0.885</td> \n",
       "</tr>\n",
       "<tr>\n",
       "  <th>Model:</th>                   <td>OLS</td>       <th>  Adj. R-squared:    </th> <td>   0.885</td> \n",
       "</tr>\n",
       "<tr>\n",
       "  <th>Method:</th>             <td>Least Squares</td>  <th>  F-statistic:       </th> <td>   6136.</td> \n",
       "</tr>\n",
       "<tr>\n",
       "  <th>Date:</th>             <td>Sun, 19 Jan 2025</td> <th>  Prob (F-statistic):</th>  <td>  0.00</td>  \n",
       "</tr>\n",
       "<tr>\n",
       "  <th>Time:</th>                 <td>16:52:31</td>     <th>  Log-Likelihood:    </th> <td> -5744.3</td> \n",
       "</tr>\n",
       "<tr>\n",
       "  <th>No. Observations:</th>      <td>  4000</td>      <th>  AIC:               </th> <td>1.150e+04</td>\n",
       "</tr>\n",
       "<tr>\n",
       "  <th>Df Residuals:</th>          <td>  3994</td>      <th>  BIC:               </th> <td>1.154e+04</td>\n",
       "</tr>\n",
       "<tr>\n",
       "  <th>Df Model:</th>              <td>     5</td>      <th>                     </th>     <td> </td>    \n",
       "</tr>\n",
       "<tr>\n",
       "  <th>Covariance Type:</th>      <td>nonrobust</td>    <th>                     </th>     <td> </td>    \n",
       "</tr>\n",
       "</table>\n",
       "<table class=\"simpletable\">\n",
       "<tr>\n",
       "             <td></td>                <th>coef</th>     <th>std err</th>      <th>t</th>      <th>P>|t|</th>  <th>[0.025</th>    <th>0.975]</th>  \n",
       "</tr>\n",
       "<tr>\n",
       "  <th>Intercept</th>               <td>   10.4999</td> <td>    0.023</td> <td>  462.042</td> <td> 0.000</td> <td>   10.455</td> <td>   10.544</td>\n",
       "</tr>\n",
       "<tr>\n",
       "  <th>match_score</th>             <td>   -1.0136</td> <td>    0.022</td> <td>  -45.899</td> <td> 0.000</td> <td>   -1.057</td> <td>   -0.970</td>\n",
       "</tr>\n",
       "<tr>\n",
       "  <th>prev_length</th>             <td>    0.3046</td> <td>    0.022</td> <td>   13.791</td> <td> 0.000</td> <td>    0.261</td> <td>    0.348</td>\n",
       "</tr>\n",
       "<tr>\n",
       "  <th>match_score2</th>            <td>    3.0664</td> <td>    0.021</td> <td>  147.420</td> <td> 0.000</td> <td>    3.026</td> <td>    3.107</td>\n",
       "</tr>\n",
       "<tr>\n",
       "  <th>prev_length2</th>            <td>    1.7512</td> <td>    0.021</td> <td>   84.192</td> <td> 0.000</td> <td>    1.710</td> <td>    1.792</td>\n",
       "</tr>\n",
       "<tr>\n",
       "  <th>match_score:prev_length</th> <td>    0.9179</td> <td>    0.032</td> <td>   28.511</td> <td> 0.000</td> <td>    0.855</td> <td>    0.981</td>\n",
       "</tr>\n",
       "</table>\n",
       "<table class=\"simpletable\">\n",
       "<tr>\n",
       "  <th>Omnibus:</th>       <td> 0.118</td> <th>  Durbin-Watson:     </th> <td>   1.982</td>\n",
       "</tr>\n",
       "<tr>\n",
       "  <th>Prob(Omnibus):</th> <td> 0.943</td> <th>  Jarque-Bera (JB):  </th> <td>   0.152</td>\n",
       "</tr>\n",
       "<tr>\n",
       "  <th>Skew:</th>          <td>-0.006</td> <th>  Prob(JB):          </th> <td>   0.927</td>\n",
       "</tr>\n",
       "<tr>\n",
       "  <th>Kurtosis:</th>      <td> 2.972</td> <th>  Cond. No.          </th> <td>    2.70</td>\n",
       "</tr>\n",
       "</table><br/><br/>Notes:<br/>[1] Standard Errors assume that the covariance matrix of the errors is correctly specified."
      ],
      "text/latex": [
       "\\begin{center}\n",
       "\\begin{tabular}{lclc}\n",
       "\\toprule\n",
       "\\textbf{Dep. Variable:}            &   browse\\_time   & \\textbf{  R-squared:         } &     0.885   \\\\\n",
       "\\textbf{Model:}                    &       OLS        & \\textbf{  Adj. R-squared:    } &     0.885   \\\\\n",
       "\\textbf{Method:}                   &  Least Squares   & \\textbf{  F-statistic:       } &     6136.   \\\\\n",
       "\\textbf{Date:}                     & Sun, 19 Jan 2025 & \\textbf{  Prob (F-statistic):} &     0.00    \\\\\n",
       "\\textbf{Time:}                     &     16:52:31     & \\textbf{  Log-Likelihood:    } &   -5744.3   \\\\\n",
       "\\textbf{No. Observations:}         &        4000      & \\textbf{  AIC:               } & 1.150e+04   \\\\\n",
       "\\textbf{Df Residuals:}             &        3994      & \\textbf{  BIC:               } & 1.154e+04   \\\\\n",
       "\\textbf{Df Model:}                 &           5      & \\textbf{                     } &             \\\\\n",
       "\\textbf{Covariance Type:}          &    nonrobust     & \\textbf{                     } &             \\\\\n",
       "\\bottomrule\n",
       "\\end{tabular}\n",
       "\\begin{tabular}{lcccccc}\n",
       "                                   & \\textbf{coef} & \\textbf{std err} & \\textbf{t} & \\textbf{P$> |$t$|$} & \\textbf{[0.025} & \\textbf{0.975]}  \\\\\n",
       "\\midrule\n",
       "\\textbf{Intercept}                 &      10.4999  &        0.023     &   462.042  &         0.000        &       10.455    &       10.544     \\\\\n",
       "\\textbf{match\\_score}              &      -1.0136  &        0.022     &   -45.899  &         0.000        &       -1.057    &       -0.970     \\\\\n",
       "\\textbf{prev\\_length}              &       0.3046  &        0.022     &    13.791  &         0.000        &        0.261    &        0.348     \\\\\n",
       "\\textbf{match\\_score2}             &       3.0664  &        0.021     &   147.420  &         0.000        &        3.026    &        3.107     \\\\\n",
       "\\textbf{prev\\_length2}             &       1.7512  &        0.021     &    84.192  &         0.000        &        1.710    &        1.792     \\\\\n",
       "\\textbf{match\\_score:prev\\_length} &       0.9179  &        0.032     &    28.511  &         0.000        &        0.855    &        0.981     \\\\\n",
       "\\bottomrule\n",
       "\\end{tabular}\n",
       "\\begin{tabular}{lclc}\n",
       "\\textbf{Omnibus:}       &  0.118 & \\textbf{  Durbin-Watson:     } &    1.982  \\\\\n",
       "\\textbf{Prob(Omnibus):} &  0.943 & \\textbf{  Jarque-Bera (JB):  } &    0.152  \\\\\n",
       "\\textbf{Skew:}          & -0.006 & \\textbf{  Prob(JB):          } &    0.927  \\\\\n",
       "\\textbf{Kurtosis:}      &  2.972 & \\textbf{  Cond. No.          } &     2.70  \\\\\n",
       "\\bottomrule\n",
       "\\end{tabular}\n",
       "%\\caption{OLS Regression Results}\n",
       "\\end{center}\n",
       "\n",
       "Notes: \\newline\n",
       " [1] Standard Errors assume that the covariance matrix of the errors is correctly specified."
      ],
      "text/plain": [
       "<class 'statsmodels.iolib.summary.Summary'>\n",
       "\"\"\"\n",
       "                            OLS Regression Results                            \n",
       "==============================================================================\n",
       "Dep. Variable:            browse_time   R-squared:                       0.885\n",
       "Model:                            OLS   Adj. R-squared:                  0.885\n",
       "Method:                 Least Squares   F-statistic:                     6136.\n",
       "Date:                Sun, 19 Jan 2025   Prob (F-statistic):               0.00\n",
       "Time:                        16:52:31   Log-Likelihood:                -5744.3\n",
       "No. Observations:                4000   AIC:                         1.150e+04\n",
       "Df Residuals:                    3994   BIC:                         1.154e+04\n",
       "Df Model:                           5                                         \n",
       "Covariance Type:            nonrobust                                         \n",
       "===========================================================================================\n",
       "                              coef    std err          t      P>|t|      [0.025      0.975]\n",
       "-------------------------------------------------------------------------------------------\n",
       "Intercept                  10.4999      0.023    462.042      0.000      10.455      10.544\n",
       "match_score                -1.0136      0.022    -45.899      0.000      -1.057      -0.970\n",
       "prev_length                 0.3046      0.022     13.791      0.000       0.261       0.348\n",
       "match_score2                3.0664      0.021    147.420      0.000       3.026       3.107\n",
       "prev_length2                1.7512      0.021     84.192      0.000       1.710       1.792\n",
       "match_score:prev_length     0.9179      0.032     28.511      0.000       0.855       0.981\n",
       "==============================================================================\n",
       "Omnibus:                        0.118   Durbin-Watson:                   1.982\n",
       "Prob(Omnibus):                  0.943   Jarque-Bera (JB):                0.152\n",
       "Skew:                          -0.006   Prob(JB):                        0.927\n",
       "Kurtosis:                       2.972   Cond. No.                         2.70\n",
       "==============================================================================\n",
       "\n",
       "Notes:\n",
       "[1] Standard Errors assume that the covariance matrix of the errors is correctly specified.\n",
       "\"\"\""
      ]
     },
     "execution_count": 46,
     "metadata": {},
     "output_type": "execute_result"
    }
   ],
   "source": [
    "import statsmodels.api as sm\n",
    "from statsmodels.formula.api import ols\n",
    "\n",
    "# Create quadratic and interaction terms\n",
    "model_df3[\"match_score2\"] = model_df3[\"match_score\"] ** 2\n",
    "model_df3[\"prev_length2\"] = model_df3[\"prev_length\"] ** 2\n",
    "model_df3[\"match_score:prev_length\"] = model_df3[\"match_score\"] * model_df3[\"prev_length\"]\n",
    "\n",
    "# Fit the response surface model\n",
    "model = ols(\"browse_time ~ match_score + prev_length + match_score2 + prev_length2 + match_score:prev_length\", \n",
    "            data=model_df3).fit()\n",
    "\n",
    "# Display model summary\n",
    "model.summary()"
   ]
  },
  {
   "cell_type": "code",
   "execution_count": 47,
   "metadata": {},
   "outputs": [
    {
     "data": {
      "image/png": "[encoded data removed]",
      "text/plain": [
       "<Figure size 1000x600 with 2 Axes>"
      ]
     },
     "metadata": {},
     "output_type": "display_data"
    }
   ],
   "source": [
    "import numpy as np\n",
    "import matplotlib.pyplot as plt\n",
    "import seaborn as sns\n",
    "\n",
    "# Create a grid of values for Match_Score and Preview_Length\n",
    "match_score_range = np.linspace(model_df3[\"match_score\"].min(), model_df3[\"match_score\"].max(), 50)\n",
    "preview_length_range = np.linspace(model_df3[\"prev_length\"].min(), model_df3[\"prev_length\"].max(), 50)\n",
    "match_grid, preview_grid = np.meshgrid(match_score_range, preview_length_range)\n",
    "\n",
    "grid_df = pd.DataFrame({\n",
    "    \"match_score\": match_grid.ravel(),\n",
    "    \"prev_length\": preview_grid.ravel(),\n",
    "})\n",
    "\n",
    "grid_df[\"match_score2\"] = grid_df[\"match_score\"] ** 2\n",
    "grid_df[\"prev_length2\"] = grid_df[\"prev_length\"] ** 2\n",
    "grid_df[\"match_score3\"] = grid_df[\"match_score\"] ** 3\n",
    "grid_df[\"prev_length3\"] = grid_df[\"prev_length\"] ** 3\n",
    "grid_df[\"match_score:prev_length\"] = grid_df[\"match_score\"] * grid_df[\"prev_length\"]\n",
    "\n",
    "\n",
    "grid_df['predicted_browse_time'] = model.predict(grid_df)\n",
    "\n",
    "predicted_browsing_time = grid_df[\"predicted_browse_time\"].values.reshape(match_grid.shape)\n",
    "\n",
    "\n",
    "plt.figure(figsize=(10, 6))\n",
    "contour = plt.contourf(match_grid, preview_grid, predicted_browsing_time, cmap=\"coolwarm\")\n",
    "plt.colorbar(contour)\n",
    "plt.scatter(model_df3[\"match_score\"], model_df3[\"prev_length\"], c=\"black\", marker=\"x\")  # Mark actual data points\n",
    "plt.xlabel(\"Match Score\")\n",
    "plt.ylabel(\"Preview Length\")\n",
    "plt.title(\"Corrected Response Surface for Browsing Time\")\n",
    "plt.show()"
   ]
  },
  {
   "cell_type": "code",
   "execution_count": 48,
   "metadata": {},
   "outputs": [
    {
     "data": {
      "image/png": "[encoded data removed]",
      "text/plain": [
       "<Figure size 1000x600 with 2 Axes>"
      ]
     },
     "metadata": {},
     "output_type": "display_data"
    }
   ],
   "source": [
    "import numpy as np\n",
    "import matplotlib.pyplot as plt\n",
    "import seaborn as sns\n",
    "\n",
    "# Create a grid of values for Match_Score and Preview_Length\n",
    "match_score_range = np.linspace(model_df3[\"match_score\"].min(), model_df3[\"match_score\"].max(), 50)\n",
    "preview_length_range = np.linspace(model_df3[\"prev_length\"].min(), model_df3[\"prev_length\"].max(), 50)\n",
    "match_grid, preview_grid = np.meshgrid(match_score_range, preview_length_range)\n",
    "\n",
    "grid_df = pd.DataFrame({\n",
    "    \"match_score\": match_grid.ravel(),\n",
    "    \"prev_length\": preview_grid.ravel(),\n",
    "})\n",
    "\n",
    "grid_df[\"match_score2\"] = grid_df[\"match_score\"] ** 2\n",
    "grid_df[\"prev_length2\"] = grid_df[\"prev_length\"] ** 2\n",
    "grid_df[\"match_score3\"] = grid_df[\"match_score\"] ** 3\n",
    "grid_df[\"prev_length3\"] = grid_df[\"prev_length\"] ** 3\n",
    "grid_df[\"match_score:prev_length\"] = grid_df[\"match_score\"] * grid_df[\"prev_length\"]\n",
    "\n",
    "\n",
    "grid_df['predicted_browse_time'] = model.predict(grid_df)\n",
    "\n",
    "predicted_browsing_time = grid_df[\"predicted_browse_time\"].values.reshape(match_grid.shape)\n",
    "\n",
    "plt.figure(figsize=(10, 6))\n",
    "contour = plt.contourf(decode_match(match_grid), decode_prev(preview_grid), predicted_browsing_time, cmap=\"coolwarm\")\n",
    "plt.colorbar(contour)\n",
    "plt.scatter(decode_match(model_df3[\"match_score\"]), decode_prev(model_df3[\"prev_length\"]), c=\"black\", marker=\"x\")  # Mark actual data points\n",
    "plt.xlabel(\"Match Score\")\n",
    "plt.ylabel(\"Preview Length\")\n",
    "plt.title(\"Corrected Response Surface for Browsing Time\")\n",
    "plt.show()"
   ]
  },
  {
   "cell_type": "code",
   "execution_count": 49,
   "metadata": {},
   "outputs": [
    {
     "name": "stdout",
     "output_type": "stream",
     "text": [
      "Optimal Match Score: 0.19\n",
      "Optimal Preview Length: -0.14\n"
     ]
    }
   ],
   "source": [
    "from scipy.optimize import minimize\n",
    "\n",
    "# Define function to minimize browsing time\n",
    "def browsing_time_function(x):\n",
    "    match_score, prev_length = x\n",
    "    df = pd.DataFrame({\"match_score\": [match_score], \"prev_length\": [prev_length]})\n",
    "    df[\"match_score2\"] = df[\"match_score\"] ** 2\n",
    "    df[\"prev_length2\"] = df[\"prev_length\"] ** 2\n",
    "    df[\"match_score3\"] = df[\"match_score\"] ** 3\n",
    "    df[\"prev_length3\"] = df[\"prev_length\"] ** 3\n",
    "    df[\"match_score:prev_length\"] = df[\"match_score\"] * df[\"prev_length\"]\n",
    "    return model.predict(df)[0]  # Return predicted browsing time\n",
    "\n",
    "# Initial guess for optimization\n",
    "# x0 = [50, 75]  # Start near the center of the range\n",
    "x0 = [0.25, -0.25]\n",
    "\n",
    "# Minimize browsing time\n",
    "# result = minimize(browsing_time_function, x0, bounds=[(0, 100), (30, 120)])\n",
    "# result = minimize(browsing_time_function, x0, bounds=[(-1.5, 1.5), (-1.5, 1.5)])\n",
    "\n",
    "result = minimize(browsing_time_function, x0, bounds=[(-3, 3), (-3, 3)])\n",
    "\n",
    "# Extract optimal settings\n",
    "optimal_match_score, optimal_prev_length = result.x\n",
    "\n",
    "print(f\"Optimal Match Score: {optimal_match_score:.2f}\")\n",
    "print(f\"Optimal Preview Length: {optimal_prev_length:.2f}\")"
   ]
  },
  {
   "cell_type": "code",
   "execution_count": 50,
   "metadata": {},
   "outputs": [
    {
     "name": "stdout",
     "output_type": "stream",
     "text": [
      "Optimal Match Score: 73.80\n",
      "Optimal Preview Length: 67.20\n"
     ]
    }
   ],
   "source": [
    "decoded_optimal_match = decode_match(0.19)\n",
    "decoded_prev_len = decode_prev(-0.14)\n",
    "\n",
    "print(f\"Optimal Match Score: {decoded_optimal_match:.2f}\")\n",
    "print(f\"Optimal Preview Length: {decoded_prev_len:.2f}\")"
   ]
  },
  {
   "cell_type": "code",
   "execution_count": 51,
   "metadata": {},
   "outputs": [
    {
     "data": {
      "text/plain": [
       "Intercept                  10.499887\n",
       "match_score                -1.013644\n",
       "prev_length                 0.304557\n",
       "match_score2                3.066406\n",
       "prev_length2                1.751238\n",
       "match_score:prev_length     0.917854\n",
       "dtype: float64"
      ]
     },
     "execution_count": 51,
     "metadata": {},
     "output_type": "execute_result"
    }
   ],
   "source": [
    "params = model.params\n",
    "\n",
    "params"
   ]
  },
  {
   "cell_type": "code",
   "execution_count": 52,
   "metadata": {},
   "outputs": [],
   "source": [
    "b = np.array([params['match_score'], params['prev_length']])\n",
    "\n",
    "B = np.array([[params['match_score2'], 0.5*params['match_score:prev_length']],\n",
    "              [0.5*params['match_score:prev_length'], params['prev_length2']]])"
   ]
  },
  {
   "cell_type": "code",
   "execution_count": 53,
   "metadata": {},
   "outputs": [],
   "source": [
    "xs = -0.5*np.linalg.inv(B)@b"
   ]
  },
  {
   "cell_type": "code",
   "execution_count": 54,
   "metadata": {},
   "outputs": [
    {
     "data": {
      "text/plain": [
       "array([ 0.18557427, -0.13558622])"
      ]
     },
     "execution_count": 54,
     "metadata": {},
     "output_type": "execute_result"
    }
   ],
   "source": [
    "xs"
   ]
  },
  {
   "cell_type": "code",
   "execution_count": 55,
   "metadata": {},
   "outputs": [
    {
     "name": "stdout",
     "output_type": "stream",
     "text": [
      "Optimal Match Score: 73.71\n",
      "Optimal Preview Length: 67.29\n"
     ]
    }
   ],
   "source": [
    "decoded_optimal_match = decode_match(xs[0])\n",
    "decoded_prev_len = decode_prev(xs[1])\n",
    "\n",
    "print(f\"Optimal Match Score: {decoded_optimal_match:.2f}\")\n",
    "print(f\"Optimal Preview Length: {decoded_prev_len:.2f}\")"
   ]
  },
  {
   "cell_type": "code",
   "execution_count": 56,
   "metadata": {},
   "outputs": [
    {
     "name": "stdout",
     "output_type": "stream",
     "text": [
      "Predicted Browsing Time: 10.79\n",
      "95% Prediction Interval: [10.74, 10.83]\n"
     ]
    }
   ],
   "source": [
    "df_optimum = pd.DataFrame({'prev_length': [0.18557427], 'match_score': [-0.13558622]})\n",
    "\n",
    "# Compute polynomial & interaction terms\n",
    "df_optimum[\"match_score2\"] = df_optimum[\"match_score\"] ** 2\n",
    "df_optimum[\"prev_length2\"] = df_optimum[\"prev_length\"] ** 2\n",
    "df_optimum[\"match_score:prev_length\"] = df_optimum[\"match_score\"] * df_optimum[\"prev_length\"]\n",
    "\n",
    "# Get prediction results\n",
    "pred_results = model.get_prediction(df_optimum)\n",
    "\n",
    "# Extract prediction mean and interval\n",
    "pred_mean = pred_results.predicted_mean[0]\n",
    "pred_interval = pred_results.conf_int(alpha=0.05)[0]  # 95% prediction interval\n",
    "\n",
    "# Print results\n",
    "print(f\"Predicted Browsing Time: {pred_mean:.2f}\")\n",
    "print(f\"95% Prediction Interval: [{pred_interval[0]:.2f}, {pred_interval[1]:.2f}]\")"
   ]
  },
  {
   "cell_type": "code",
   "execution_count": 57,
   "metadata": {},
   "outputs": [
    {
     "name": "stdout",
     "output_type": "stream",
     "text": [
      "Predicted Browsing Time: 10.80\n",
      "95% Prediction Interval: [10.75, 10.84]\n"
     ]
    }
   ],
   "source": [
    "df_optimum = pd.DataFrame({'prev_length': [0.19], 'match_score': [-0.14]})\n",
    "\n",
    "# Compute polynomial & interaction terms\n",
    "df_optimum[\"match_score2\"] = df_optimum[\"match_score\"] ** 2\n",
    "df_optimum[\"prev_length2\"] = df_optimum[\"prev_length\"] ** 2\n",
    "df_optimum[\"match_score:prev_length\"] = df_optimum[\"match_score\"] * df_optimum[\"prev_length\"]\n",
    "\n",
    "# Get prediction results\n",
    "pred_results = model.get_prediction(df_optimum)\n",
    "\n",
    "# Extract prediction mean and interval\n",
    "pred_mean = pred_results.predicted_mean[0]\n",
    "pred_interval = pred_results.conf_int(alpha=0.05)[0]  # 95% prediction interval\n",
    "\n",
    "# Print results\n",
    "print(f\"Predicted Browsing Time: {pred_mean:.2f}\")\n",
    "print(f\"95% Prediction Interval: [{pred_interval[0]:.2f}, {pred_interval[1]:.2f}]\")"
   ]
  },
  {
   "cell_type": "code",
   "execution_count": 58,
   "metadata": {},
   "outputs": [
    {
     "name": "stdout",
     "output_type": "stream",
     "text": [
      "Predicted Browsing Time: 10.50\n",
      "95% Prediction Interval: [10.46, 10.54]\n"
     ]
    }
   ],
   "source": [
    "df_optimum = pd.DataFrame({'prev_length': [encode_prev(70)], 'match_score': [encode_match(70)]})\n",
    "\n",
    "# Compute polynomial & interaction terms\n",
    "df_optimum[\"match_score2\"] = df_optimum[\"match_score\"] ** 2\n",
    "df_optimum[\"prev_length2\"] = df_optimum[\"prev_length\"] ** 2\n",
    "df_optimum[\"match_score:prev_length\"] = df_optimum[\"match_score\"] * df_optimum[\"prev_length\"]\n",
    "\n",
    "# Get prediction results\n",
    "pred_results = model.get_prediction(df_optimum)\n",
    "\n",
    "# Extract prediction mean and interval\n",
    "pred_mean = pred_results.predicted_mean[0]\n",
    "pred_interval = pred_results.conf_int(alpha=0.05)[0]  # 95% prediction interval\n",
    "\n",
    "# Print results\n",
    "print(f\"Predicted Browsing Time: {pred_mean:.2f}\")\n",
    "print(f\"95% Prediction Interval: [{pred_interval[0]:.2f}, {pred_interval[1]:.2f}]\")"
   ]
  },
  {
   "cell_type": "markdown",
   "metadata": {},
   "source": [
    "## Experiment 4"
   ]
  },
  {
   "cell_type": "markdown",
   "metadata": {},
   "source": [
    "From above, we can see that rounding to 65 preview length and 75 match score results in a lower predicted browsing time compared to the calculated minimum. This is likely due to some curvature in this area not accounted for by the fitted second order model. To verify the accuracy of this model, we would like to perform a small grid search in the area immediately surrounding the calculated minimum. To do this, we will test preview length of 65 and 70 with match scores of 70,71,72,73,74, and 75. We will then perform a one way anova to examine whether the mean browsing time for these conditions is statistically significant. "
   ]
  },
  {
   "cell_type": "code",
   "execution_count": 31,
   "metadata": {},
   "outputs": [
    {
     "name": "stdout",
     "output_type": "stream",
     "text": [
      "Required sample size per condition: 116\n",
      "Total required sample size: 1392\n"
     ]
    }
   ],
   "source": [
    "from statsmodels.stats.power import FTestAnovaPower\n",
    "\n",
    "# Define power analysis parameters\n",
    "effect_size = 0.4  # Medium effect size (Cohen's f)\n",
    "alpha = 0.05       # Significance level\n",
    "power = 0.8        # Desired statistical power\n",
    "num_groups = 12      # Match Score levels (71, 72, 73, 74, 75) for each Preview Length level (65, 70)\n",
    "\n",
    "# Initialize power analysis\n",
    "power_analysis = FTestAnovaPower()\n",
    "\n",
    "# Solve for the required sample size per group\n",
    "sample_size_per_condition = power_analysis.solve_power(effect_size=effect_size, power=power, alpha=alpha, k_groups=num_groups)\n",
    "\n",
    "# Round up to ensure adequate sampling\n",
    "sample_size_per_condition = int(sample_size_per_condition) + 1\n",
    "\n",
    "# Compute total required sample size\n",
    "total_sample_size = sample_size_per_condition * num_groups\n",
    "\n",
    "print(f\"Required sample size per condition: {sample_size_per_condition}\")\n",
    "print(f\"Total required sample size: {total_sample_size}\")\n"
   ]
  },
  {
   "cell_type": "markdown",
   "metadata": {},
   "source": [
    "The calculated sample size required for this experiment is 107.To again err on the side of caution, we will continue with the 250 units per condition that has been done previously. With the 12 conditions, this experiment will require 3000 units, leading to 13250 units total thus far."
   ]
  },
  {
   "cell_type": "code",
   "execution_count": 32,
   "metadata": {},
   "outputs": [
    {
     "data": {
      "text/html": [
       "<div>\n",
       "<style scoped>\n",
       "    .dataframe tbody tr th:only-of-type {\n",
       "        vertical-align: middle;\n",
       "    }\n",
       "\n",
       "    .dataframe tbody tr th {\n",
       "        vertical-align: top;\n",
       "    }\n",
       "\n",
       "    .dataframe thead th {\n",
       "        text-align: right;\n",
       "    }\n",
       "</style>\n",
       "<table border=\"1\" class=\"dataframe\">\n",
       "  <thead>\n",
       "    <tr style=\"text-align: right;\">\n",
       "      <th></th>\n",
       "      <th>Prev.Length</th>\n",
       "      <th>Match.Score</th>\n",
       "      <th>Tile.Size</th>\n",
       "      <th>Prev.Type</th>\n",
       "      <th>Browse.Time</th>\n",
       "    </tr>\n",
       "  </thead>\n",
       "  <tbody>\n",
       "    <tr>\n",
       "      <th>0</th>\n",
       "      <td>65</td>\n",
       "      <td>70</td>\n",
       "      <td>0.2</td>\n",
       "      <td>TT</td>\n",
       "      <td>12.119693</td>\n",
       "    </tr>\n",
       "    <tr>\n",
       "      <th>1</th>\n",
       "      <td>65</td>\n",
       "      <td>70</td>\n",
       "      <td>0.2</td>\n",
       "      <td>TT</td>\n",
       "      <td>10.539271</td>\n",
       "    </tr>\n",
       "    <tr>\n",
       "      <th>2</th>\n",
       "      <td>65</td>\n",
       "      <td>70</td>\n",
       "      <td>0.2</td>\n",
       "      <td>TT</td>\n",
       "      <td>11.638886</td>\n",
       "    </tr>\n",
       "    <tr>\n",
       "      <th>3</th>\n",
       "      <td>65</td>\n",
       "      <td>70</td>\n",
       "      <td>0.2</td>\n",
       "      <td>TT</td>\n",
       "      <td>10.572214</td>\n",
       "    </tr>\n",
       "    <tr>\n",
       "      <th>4</th>\n",
       "      <td>65</td>\n",
       "      <td>70</td>\n",
       "      <td>0.2</td>\n",
       "      <td>TT</td>\n",
       "      <td>11.246331</td>\n",
       "    </tr>\n",
       "  </tbody>\n",
       "</table>\n",
       "</div>"
      ],
      "text/plain": [
       "   Prev.Length  Match.Score  Tile.Size Prev.Type  Browse.Time\n",
       "0           65           70        0.2        TT    12.119693\n",
       "1           65           70        0.2        TT    10.539271\n",
       "2           65           70        0.2        TT    11.638886\n",
       "3           65           70        0.2        TT    10.572214\n",
       "4           65           70        0.2        TT    11.246331"
      ]
     },
     "execution_count": 32,
     "metadata": {},
     "output_type": "execute_result"
    }
   ],
   "source": [
    "results_df4 = pd.read_csv('experiment_4_results.csv')\n",
    "\n",
    "results_df4.head()"
   ]
  },
  {
   "cell_type": "code",
   "execution_count": 33,
   "metadata": {},
   "outputs": [
    {
     "data": {
      "text/html": [
       "<div>\n",
       "<style scoped>\n",
       "    .dataframe tbody tr th:only-of-type {\n",
       "        vertical-align: middle;\n",
       "    }\n",
       "\n",
       "    .dataframe tbody tr th {\n",
       "        vertical-align: top;\n",
       "    }\n",
       "\n",
       "    .dataframe thead th {\n",
       "        text-align: right;\n",
       "    }\n",
       "</style>\n",
       "<table border=\"1\" class=\"dataframe\">\n",
       "  <thead>\n",
       "    <tr style=\"text-align: right;\">\n",
       "      <th></th>\n",
       "      <th>prev_length</th>\n",
       "      <th>match_score</th>\n",
       "      <th>tile_size</th>\n",
       "      <th>prev_type</th>\n",
       "      <th>browse_time</th>\n",
       "    </tr>\n",
       "  </thead>\n",
       "  <tbody>\n",
       "    <tr>\n",
       "      <th>0</th>\n",
       "      <td>65</td>\n",
       "      <td>70</td>\n",
       "      <td>0.2</td>\n",
       "      <td>TT</td>\n",
       "      <td>12.119693</td>\n",
       "    </tr>\n",
       "    <tr>\n",
       "      <th>1</th>\n",
       "      <td>65</td>\n",
       "      <td>70</td>\n",
       "      <td>0.2</td>\n",
       "      <td>TT</td>\n",
       "      <td>10.539271</td>\n",
       "    </tr>\n",
       "    <tr>\n",
       "      <th>2</th>\n",
       "      <td>65</td>\n",
       "      <td>70</td>\n",
       "      <td>0.2</td>\n",
       "      <td>TT</td>\n",
       "      <td>11.638886</td>\n",
       "    </tr>\n",
       "    <tr>\n",
       "      <th>3</th>\n",
       "      <td>65</td>\n",
       "      <td>70</td>\n",
       "      <td>0.2</td>\n",
       "      <td>TT</td>\n",
       "      <td>10.572214</td>\n",
       "    </tr>\n",
       "    <tr>\n",
       "      <th>4</th>\n",
       "      <td>65</td>\n",
       "      <td>70</td>\n",
       "      <td>0.2</td>\n",
       "      <td>TT</td>\n",
       "      <td>11.246331</td>\n",
       "    </tr>\n",
       "  </tbody>\n",
       "</table>\n",
       "</div>"
      ],
      "text/plain": [
       "   prev_length  match_score  tile_size prev_type  browse_time\n",
       "0           65           70        0.2        TT    12.119693\n",
       "1           65           70        0.2        TT    10.539271\n",
       "2           65           70        0.2        TT    11.638886\n",
       "3           65           70        0.2        TT    10.572214\n",
       "4           65           70        0.2        TT    11.246331"
      ]
     },
     "execution_count": 33,
     "metadata": {},
     "output_type": "execute_result"
    }
   ],
   "source": [
    "model_df4 = results_df4.copy()\n",
    "\n",
    "column_rename = {'Tile.Size': 'tile_size', 'Match.Score': 'match_score', 'Prev.Length': 'prev_length', 'Prev.Type': 'prev_type', 'Browse.Time': 'browse_time'}\n",
    "\n",
    "model_df4.rename(columns=column_rename, inplace=True)\n",
    "\n",
    "model_df4.head()"
   ]
  },
  {
   "cell_type": "code",
   "execution_count": 34,
   "metadata": {},
   "outputs": [
    {
     "data": {
      "text/html": [
       "<div>\n",
       "<style scoped>\n",
       "    .dataframe tbody tr th:only-of-type {\n",
       "        vertical-align: middle;\n",
       "    }\n",
       "\n",
       "    .dataframe tbody tr th {\n",
       "        vertical-align: top;\n",
       "    }\n",
       "\n",
       "    .dataframe thead th {\n",
       "        text-align: right;\n",
       "    }\n",
       "</style>\n",
       "<table border=\"1\" class=\"dataframe\">\n",
       "  <thead>\n",
       "    <tr style=\"text-align: right;\">\n",
       "      <th></th>\n",
       "      <th>sum_sq</th>\n",
       "      <th>df</th>\n",
       "      <th>F</th>\n",
       "      <th>PR(&gt;F)</th>\n",
       "    </tr>\n",
       "  </thead>\n",
       "  <tbody>\n",
       "    <tr>\n",
       "      <th>C(match_score)</th>\n",
       "      <td>12.394267</td>\n",
       "      <td>5.0</td>\n",
       "      <td>2.382003</td>\n",
       "      <td>3.629319e-02</td>\n",
       "    </tr>\n",
       "    <tr>\n",
       "      <th>C(prev_length)</th>\n",
       "      <td>55.611480</td>\n",
       "      <td>1.0</td>\n",
       "      <td>53.438707</td>\n",
       "      <td>3.406855e-13</td>\n",
       "    </tr>\n",
       "    <tr>\n",
       "      <th>Residual</th>\n",
       "      <td>3114.692854</td>\n",
       "      <td>2993.0</td>\n",
       "      <td>NaN</td>\n",
       "      <td>NaN</td>\n",
       "    </tr>\n",
       "  </tbody>\n",
       "</table>\n",
       "</div>"
      ],
      "text/plain": [
       "                     sum_sq      df          F        PR(>F)\n",
       "C(match_score)    12.394267     5.0   2.382003  3.629319e-02\n",
       "C(prev_length)    55.611480     1.0  53.438707  3.406855e-13\n",
       "Residual        3114.692854  2993.0        NaN           NaN"
      ]
     },
     "execution_count": 34,
     "metadata": {},
     "output_type": "execute_result"
    }
   ],
   "source": [
    "import statsmodels.api as sm\n",
    "from statsmodels.formula.api import ols\n",
    "\n",
    "# Fit a two-way ANOVA model\n",
    "model = ols(\"browse_time ~ C(match_score) + C(prev_length)\", data=model_df4).fit()\n",
    "\n",
    "# Perform ANOVA test\n",
    "anova_table = sm.stats.anova_lm(model, typ=2)  # Type 2 ANOVA table\n",
    "\n",
    "# Display results\n",
    "anova_table"
   ]
  },
  {
   "cell_type": "markdown",
   "metadata": {},
   "source": [
    "Based on the above ANOVA table, we can see that among these levels, both match_score and preview length are significant predictors. This indicates that there is a difference in browsing time among these levels. To find out specifically which combination is the best, we will perform a series of pair-wise t tests using the Bonferroni correction to account for the multiple comparison problem."
   ]
  },
  {
   "cell_type": "code",
   "execution_count": 39,
   "metadata": {},
   "outputs": [
    {
     "name": "stdout",
     "output_type": "stream",
     "text": [
      "Best Group (Match Score, Preview Length): (73, 70)\n",
      "Lowest Mean Browsing Time: 10.47\n"
     ]
    },
    {
     "data": {
      "text/html": [
       "<div>\n",
       "<style scoped>\n",
       "    .dataframe tbody tr th:only-of-type {\n",
       "        vertical-align: middle;\n",
       "    }\n",
       "\n",
       "    .dataframe tbody tr th {\n",
       "        vertical-align: top;\n",
       "    }\n",
       "\n",
       "    .dataframe thead th {\n",
       "        text-align: right;\n",
       "    }\n",
       "</style>\n",
       "<table border=\"1\" class=\"dataframe\">\n",
       "  <thead>\n",
       "    <tr style=\"text-align: right;\">\n",
       "      <th></th>\n",
       "      <th>match_score</th>\n",
       "      <th>prev_length</th>\n",
       "      <th>browse_time</th>\n",
       "    </tr>\n",
       "  </thead>\n",
       "  <tbody>\n",
       "    <tr>\n",
       "      <th>7</th>\n",
       "      <td>73</td>\n",
       "      <td>70</td>\n",
       "      <td>10.470470</td>\n",
       "    </tr>\n",
       "    <tr>\n",
       "      <th>9</th>\n",
       "      <td>74</td>\n",
       "      <td>70</td>\n",
       "      <td>10.522594</td>\n",
       "    </tr>\n",
       "    <tr>\n",
       "      <th>5</th>\n",
       "      <td>72</td>\n",
       "      <td>70</td>\n",
       "      <td>10.528081</td>\n",
       "    </tr>\n",
       "    <tr>\n",
       "      <th>11</th>\n",
       "      <td>75</td>\n",
       "      <td>70</td>\n",
       "      <td>10.529745</td>\n",
       "    </tr>\n",
       "    <tr>\n",
       "      <th>3</th>\n",
       "      <td>71</td>\n",
       "      <td>70</td>\n",
       "      <td>10.562588</td>\n",
       "    </tr>\n",
       "    <tr>\n",
       "      <th>1</th>\n",
       "      <td>70</td>\n",
       "      <td>70</td>\n",
       "      <td>10.587602</td>\n",
       "    </tr>\n",
       "    <tr>\n",
       "      <th>4</th>\n",
       "      <td>72</td>\n",
       "      <td>65</td>\n",
       "      <td>10.620938</td>\n",
       "    </tr>\n",
       "    <tr>\n",
       "      <th>6</th>\n",
       "      <td>73</td>\n",
       "      <td>65</td>\n",
       "      <td>10.751702</td>\n",
       "    </tr>\n",
       "    <tr>\n",
       "      <th>2</th>\n",
       "      <td>71</td>\n",
       "      <td>65</td>\n",
       "      <td>10.790628</td>\n",
       "    </tr>\n",
       "    <tr>\n",
       "      <th>8</th>\n",
       "      <td>74</td>\n",
       "      <td>65</td>\n",
       "      <td>10.828865</td>\n",
       "    </tr>\n",
       "    <tr>\n",
       "      <th>10</th>\n",
       "      <td>75</td>\n",
       "      <td>65</td>\n",
       "      <td>10.882255</td>\n",
       "    </tr>\n",
       "    <tr>\n",
       "      <th>0</th>\n",
       "      <td>70</td>\n",
       "      <td>65</td>\n",
       "      <td>10.960507</td>\n",
       "    </tr>\n",
       "  </tbody>\n",
       "</table>\n",
       "</div>"
      ],
      "text/plain": [
       "    match_score  prev_length  browse_time\n",
       "7            73           70    10.470470\n",
       "9            74           70    10.522594\n",
       "5            72           70    10.528081\n",
       "11           75           70    10.529745\n",
       "3            71           70    10.562588\n",
       "1            70           70    10.587602\n",
       "4            72           65    10.620938\n",
       "6            73           65    10.751702\n",
       "2            71           65    10.790628\n",
       "8            74           65    10.828865\n",
       "10           75           65    10.882255\n",
       "0            70           65    10.960507"
      ]
     },
     "execution_count": 39,
     "metadata": {},
     "output_type": "execute_result"
    }
   ],
   "source": [
    "# Get mean browsing times for each (match_score, preview_length) condition\n",
    "mean_browsing_times = model_df4.groupby([\"match_score\", \"prev_length\"])[\"browse_time\"].mean()\n",
    "\n",
    "# Find the group with the lowest mean browsing time\n",
    "best_group = mean_browsing_times.idxmin()\n",
    "best_time = mean_browsing_times.min()\n",
    "\n",
    "print(f\"Best Group (Match Score, Preview Length): {best_group}\")\n",
    "print(f\"Lowest Mean Browsing Time: {best_time:.2f}\")\n",
    "\n",
    "mean_browsing_times.reset_index().sort_values(by='browse_time', ascending=True)"
   ]
  },
  {
   "cell_type": "markdown",
   "metadata": {},
   "source": [
    "From the experimental data, we can see that the best group is 74 match score, 70 preview length. Now we would like to perform a series of pairwise t tests to determine if this is statstically significant."
   ]
  },
  {
   "cell_type": "code",
   "execution_count": 43,
   "metadata": {},
   "outputs": [
    {
     "data": {
      "text/html": [
       "<div>\n",
       "<style scoped>\n",
       "    .dataframe tbody tr th:only-of-type {\n",
       "        vertical-align: middle;\n",
       "    }\n",
       "\n",
       "    .dataframe tbody tr th {\n",
       "        vertical-align: top;\n",
       "    }\n",
       "\n",
       "    .dataframe thead th {\n",
       "        text-align: right;\n",
       "    }\n",
       "</style>\n",
       "<table border=\"1\" class=\"dataframe\">\n",
       "  <thead>\n",
       "    <tr style=\"text-align: right;\">\n",
       "      <th></th>\n",
       "      <th>Best Group</th>\n",
       "      <th>Compared Group</th>\n",
       "      <th>Raw P-Value</th>\n",
       "      <th>Bonferroni Corrected P-Value</th>\n",
       "      <th>Significant Difference (p &lt; 0.05)</th>\n",
       "    </tr>\n",
       "  </thead>\n",
       "  <tbody>\n",
       "    <tr>\n",
       "      <th>0</th>\n",
       "      <td>browse_time</td>\n",
       "      <td>70_65</td>\n",
       "      <td>1.149052e-07</td>\n",
       "      <td>0.000001</td>\n",
       "      <td>True</td>\n",
       "    </tr>\n",
       "    <tr>\n",
       "      <th>1</th>\n",
       "      <td>browse_time</td>\n",
       "      <td>71_65</td>\n",
       "      <td>2.501079e-04</td>\n",
       "      <td>0.002751</td>\n",
       "      <td>True</td>\n",
       "    </tr>\n",
       "    <tr>\n",
       "      <th>2</th>\n",
       "      <td>browse_time</td>\n",
       "      <td>72_65</td>\n",
       "      <td>4.863419e-02</td>\n",
       "      <td>0.534976</td>\n",
       "      <td>False</td>\n",
       "    </tr>\n",
       "    <tr>\n",
       "      <th>3</th>\n",
       "      <td>browse_time</td>\n",
       "      <td>73_65</td>\n",
       "      <td>1.515704e-03</td>\n",
       "      <td>0.016673</td>\n",
       "      <td>True</td>\n",
       "    </tr>\n",
       "    <tr>\n",
       "      <th>4</th>\n",
       "      <td>browse_time</td>\n",
       "      <td>74_65</td>\n",
       "      <td>5.484444e-05</td>\n",
       "      <td>0.000603</td>\n",
       "      <td>True</td>\n",
       "    </tr>\n",
       "    <tr>\n",
       "      <th>5</th>\n",
       "      <td>browse_time</td>\n",
       "      <td>75_65</td>\n",
       "      <td>5.850518e-06</td>\n",
       "      <td>0.000064</td>\n",
       "      <td>True</td>\n",
       "    </tr>\n",
       "    <tr>\n",
       "      <th>6</th>\n",
       "      <td>browse_time</td>\n",
       "      <td>70_70</td>\n",
       "      <td>9.561744e-02</td>\n",
       "      <td>1.000000</td>\n",
       "      <td>False</td>\n",
       "    </tr>\n",
       "    <tr>\n",
       "      <th>7</th>\n",
       "      <td>browse_time</td>\n",
       "      <td>71_70</td>\n",
       "      <td>1.596902e-01</td>\n",
       "      <td>1.000000</td>\n",
       "      <td>False</td>\n",
       "    </tr>\n",
       "    <tr>\n",
       "      <th>8</th>\n",
       "      <td>browse_time</td>\n",
       "      <td>72_70</td>\n",
       "      <td>2.696244e-01</td>\n",
       "      <td>1.000000</td>\n",
       "      <td>False</td>\n",
       "    </tr>\n",
       "    <tr>\n",
       "      <th>9</th>\n",
       "      <td>browse_time</td>\n",
       "      <td>74_70</td>\n",
       "      <td>2.896031e-01</td>\n",
       "      <td>1.000000</td>\n",
       "      <td>False</td>\n",
       "    </tr>\n",
       "    <tr>\n",
       "      <th>10</th>\n",
       "      <td>browse_time</td>\n",
       "      <td>75_70</td>\n",
       "      <td>2.551599e-01</td>\n",
       "      <td>1.000000</td>\n",
       "      <td>False</td>\n",
       "    </tr>\n",
       "  </tbody>\n",
       "</table>\n",
       "</div>"
      ],
      "text/plain": [
       "     Best Group Compared Group   Raw P-Value  Bonferroni Corrected P-Value  \\\n",
       "0   browse_time          70_65  1.149052e-07                      0.000001   \n",
       "1   browse_time          71_65  2.501079e-04                      0.002751   \n",
       "2   browse_time          72_65  4.863419e-02                      0.534976   \n",
       "3   browse_time          73_65  1.515704e-03                      0.016673   \n",
       "4   browse_time          74_65  5.484444e-05                      0.000603   \n",
       "5   browse_time          75_65  5.850518e-06                      0.000064   \n",
       "6   browse_time          70_70  9.561744e-02                      1.000000   \n",
       "7   browse_time          71_70  1.596902e-01                      1.000000   \n",
       "8   browse_time          72_70  2.696244e-01                      1.000000   \n",
       "9   browse_time          74_70  2.896031e-01                      1.000000   \n",
       "10  browse_time          75_70  2.551599e-01                      1.000000   \n",
       "\n",
       "    Significant Difference (p < 0.05)  \n",
       "0                                True  \n",
       "1                                True  \n",
       "2                               False  \n",
       "3                                True  \n",
       "4                                True  \n",
       "5                                True  \n",
       "6                               False  \n",
       "7                               False  \n",
       "8                               False  \n",
       "9                               False  \n",
       "10                              False  "
      ]
     },
     "execution_count": 43,
     "metadata": {},
     "output_type": "execute_result"
    }
   ],
   "source": [
    "from itertools import combinations\n",
    "from scipy.stats import ttest_ind\n",
    "from statsmodels.stats.multitest import multipletests\n",
    "import pandas as pd\n",
    "\n",
    "# Extract the best group's browsing time data\n",
    "best_group_data = model_df4[(model_df4[\"match_score\"] == 73) & (model_df4[\"prev_length\"] == 70)][\"browse_time\"]\n",
    "\n",
    "# Get all unique (match_score, preview_length) combinations except the best group\n",
    "other_groups = model_df4[~((model_df4[\"match_score\"] == 73) & (model_df4[\"prev_length\"] == 70))][\"condition\"].unique()\n",
    "\n",
    "# Store p-values and comparisons\n",
    "p_values = []\n",
    "comparisons = []\n",
    "\n",
    "# Perform pairwise t-tests comparing the best group to all other groups\n",
    "for group in other_groups:\n",
    "    group_match_score, group_preview_length = map(int, group.split(\"_\"))\n",
    "    other_group_data = model_df4[(model_df4[\"match_score\"] == group_match_score) & (model_df4[\"prev_length\"] == group_preview_length)][\"browse_time\"]\n",
    "    \n",
    "    # Perform Welch's t-test (for unequal variances)\n",
    "    t_stat, p_value = ttest_ind(best_group_data, other_group_data, equal_var=False, alternative=\"less\")  # One-tailed test (best group < others)\n",
    "    \n",
    "    p_values.append(p_value)\n",
    "    comparisons.append((f\"{best_group_data.name}\", group))\n",
    "\n",
    "# Apply Bonferroni correction for multiple comparisons\n",
    "_, p_values_corrected, _, _ = multipletests(p_values, alpha=0.05, method=\"bonferroni\")\n",
    "\n",
    "# Store results in a DataFrame\n",
    "results_df = pd.DataFrame(comparisons, columns=[\"Best Group\", \"Compared Group\"])\n",
    "results_df[\"Raw P-Value\"] = p_values\n",
    "results_df[\"Bonferroni Corrected P-Value\"] = p_values_corrected\n",
    "results_df[\"Significant Difference (p < 0.05)\"] = p_values_corrected < 0.05\n",
    "\n",
    "\n",
    "results_df"
   ]
  },
  {
   "cell_type": "markdown",
   "metadata": {},
   "source": [
    "From the output, we can see that for any preview_length of 70, the difference is not statistically singnificant. This is also true for 72 match score and 65 preview length. Therefore, we can conclude that the optimal preview length is 70 and the associated match score does not matter as long as it is between 70 and 75. Because of this, we will choose a match score of 70 and a preview length of 70 as well. From previous experimentation, the model fits this area well, with a mean observed browse time of 10.497 seconds and a predicted browse time of 10.5 seconds from the model fitted in experiment 3. "
   ]
  },
  {
   "cell_type": "code",
   "execution_count": null,
   "metadata": {},
   "outputs": [],
   "source": []
  }
 ],
 "metadata": {
  "kernelspec": {
   "display_name": "msds",
   "language": "python",
   "name": "python3"
  },
  "language_info": {
   "codemirror_mode": {
    "name": "ipython",
    "version": 3
   },
   "file_extension": ".py",
   "mimetype": "text/x-python",
   "name": "python",
   "nbconvert_exporter": "python",
   "pygments_lexer": "ipython3",
   "version": "3.12.2"
  }
 },
 "nbformat": 4,
 "nbformat_minor": 2
}
